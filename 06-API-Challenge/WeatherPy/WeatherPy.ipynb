{
 "cells": [
  {
   "cell_type": "markdown",
   "metadata": {},
   "source": [
    "# WeatherPy\n",
    "----\n",
    "\n",
    "#### Note\n",
    "* Instructions have been included for each segment. You do not have to follow them exactly, but they are included to help you think through the steps."
   ]
  },
  {
   "cell_type": "code",
   "execution_count": 1,
   "metadata": {},
   "outputs": [],
   "source": [
    "# Dependencies and Setup\n",
    "import matplotlib.pyplot as plt\n",
    "import pandas as pd\n",
    "import numpy as np\n",
    "import requests\n",
    "import time\n",
    "import json\n",
    "import scipy.stats as st\n",
    "from scipy.stats import linregress\n",
    "\n",
    "# Import API key\n",
    "from api_keys import weather_api_key\n",
    "\n",
    "# Incorporated citipy to determine city based on latitude and longitude\n",
    "from citipy import citipy\n",
    "\n",
    "# Output File (CSV)\n",
    "output_data_file = \"output_data/cities.csv\"\n",
    "\n",
    "# Range of latitudes and longitudes\n",
    "lat_range = (-90, 90)\n",
    "lng_range = (-180, 180)"
   ]
  },
  {
   "cell_type": "markdown",
   "metadata": {},
   "source": [
    "## Generate Cities List"
   ]
  },
  {
   "cell_type": "code",
   "execution_count": 2,
   "metadata": {},
   "outputs": [
    {
     "data": {
      "text/plain": [
       "610"
      ]
     },
     "execution_count": 2,
     "metadata": {},
     "output_type": "execute_result"
    }
   ],
   "source": [
    "# List for holding lat_lngs and cities\n",
    "lat_lngs = []\n",
    "cities = []\n",
    "\n",
    "# Create a set of random lat and lng combinations\n",
    "lats = np.random.uniform(low=-90.000, high=90.000, size=1500)\n",
    "lngs = np.random.uniform(low=-180.000, high=180.000, size=1500)\n",
    "lat_lngs = zip(lats, lngs)\n",
    "\n",
    "# Identify nearest city for each lat, lng combination\n",
    "for lat_lng in lat_lngs:\n",
    "    city = citipy.nearest_city(lat_lng[0], lat_lng[1]).city_name\n",
    "    \n",
    "    # If the city is unique, then add it to a our cities list\n",
    "    if city not in cities:\n",
    "        cities.append(city)\n",
    "\n",
    "# Print the city count to confirm sufficient count\n",
    "len(cities)"
   ]
  },
  {
   "cell_type": "markdown",
   "metadata": {},
   "source": [
    "### Perform API Calls\n",
    "* Perform a weather check on each city using a series of successive API calls.\n",
    "* Include a print log of each city as it'sbeing processed (with the city number and city name).\n"
   ]
  },
  {
   "cell_type": "code",
   "execution_count": 3,
   "metadata": {},
   "outputs": [],
   "source": [
    "city_name_list = []\n",
    "cloudiness_list = []\n",
    "country_list = []\n",
    "date_list = []\n",
    "humidity_list = []\n",
    "lat_list = []\n",
    "lng_list = []\n",
    "max_temp_list = []\n",
    "wind_speed_list = []\n",
    "index_counter = 0\n",
    "set_counter = 1"
   ]
  },
  {
   "cell_type": "code",
   "execution_count": null,
   "metadata": {},
   "outputs": [
    {
     "name": "stdout",
     "output_type": "stream",
     "text": [
      "Beginning Data Retrieval\n",
      "---------------------------\n",
      "Processing Record 1 of Set 1 : dingle\n",
      "Processing Record 2 of Set 1 : virginia beach\n",
      "Processing Record 3 of Set 1 : souillac\n",
      "Processing Record 4 of Set 1 : kruisfontein\n",
      "Processing Record 5 of Set 1 : tuktoyaktuk\n",
      "Processing Record 6 of Set 1 : lebu\n",
      "Processing Record 7 of Set 1 : ushuaia\n",
      "Processing Record 8 of Set 1 : beringovskiy\n",
      "City not found. Skipping...\n",
      "Processing Record 9 of Set 1 : port alfred\n",
      "Processing Record 10 of Set 1 : rawson\n",
      "Processing Record 11 of Set 1 : santa cruz\n",
      "Processing Record 12 of Set 1 : tiksi\n",
      "Processing Record 13 of Set 1 : hermanus\n",
      "Processing Record 14 of Set 1 : lavrentiya\n",
      "Processing Record 15 of Set 1 : qaanaaq\n",
      "Processing Record 16 of Set 1 : mataura\n",
      "Processing Record 17 of Set 1 : puerto ayora\n",
      "Processing Record 18 of Set 1 : longyearbyen\n",
      "Processing Record 19 of Set 1 : murray bridge\n",
      "Processing Record 20 of Set 1 : hobart\n",
      "Processing Record 21 of Set 1 : panacan\n",
      "Processing Record 22 of Set 1 : outlook\n",
      "Processing Record 23 of Set 1 : hilo\n",
      "Processing Record 24 of Set 1 : aiken\n",
      "Processing Record 25 of Set 1 : hami\n",
      "Processing Record 26 of Set 1 : albany\n",
      "Processing Record 27 of Set 1 : tornio\n",
      "Processing Record 28 of Set 1 : kuryk\n",
      "Processing Record 29 of Set 1 : yarega\n",
      "Processing Record 30 of Set 1 : te anau\n",
      "City not found. Skipping...\n",
      "Processing Record 31 of Set 1 : busselton\n",
      "Processing Record 32 of Set 1 : jiuquan\n",
      "Processing Record 33 of Set 1 : east london\n",
      "Processing Record 34 of Set 1 : barrow\n",
      "Processing Record 35 of Set 1 : rikitea\n",
      "Processing Record 36 of Set 1 : matara\n",
      "Processing Record 37 of Set 1 : yar-sale\n",
      "Processing Record 38 of Set 1 : kodiak\n",
      "Processing Record 39 of Set 1 : jamestown\n",
      "Processing Record 40 of Set 1 : punta arenas\n",
      "Processing Record 41 of Set 1 : muros\n",
      "Processing Record 42 of Set 1 : saint anthony\n",
      "Processing Record 43 of Set 1 : balvi\n",
      "Processing Record 44 of Set 1 : huaral\n",
      "Processing Record 45 of Set 1 : susehri\n",
      "Processing Record 46 of Set 1 : gambela\n",
      "Processing Record 47 of Set 1 : lompoc\n",
      "Processing Record 48 of Set 1 : flinders\n",
      "Processing Record 49 of Set 1 : vestmannaeyjar\n",
      "Processing Record 50 of Set 1 : pouso alegre\n",
      "Processing Record 0 of Set 2 : san policarpo\n",
      "Processing Record 1 of Set 2 : sakakah\n",
      "Processing Record 2 of Set 2 : wanaka\n",
      "Processing Record 3 of Set 2 : hobyo\n",
      "Processing Record 4 of Set 2 : fortuna\n",
      "City not found. Skipping...\n",
      "Processing Record 5 of Set 2 : san quintin\n",
      "Processing Record 6 of Set 2 : upernavik\n",
      "Processing Record 7 of Set 2 : nikolskoye\n",
      "Processing Record 8 of Set 2 : sitka\n",
      "Processing Record 9 of Set 2 : planeta rica\n",
      "Processing Record 10 of Set 2 : ilulissat\n",
      "Processing Record 11 of Set 2 : saint-philippe\n",
      "Processing Record 12 of Set 2 : muli\n",
      "Processing Record 13 of Set 2 : shafter\n",
      "Processing Record 14 of Set 2 : komsomolskiy\n",
      "Processing Record 15 of Set 2 : half moon bay\n",
      "Processing Record 16 of Set 2 : nome\n",
      "Processing Record 17 of Set 2 : innisfail\n",
      "Processing Record 18 of Set 2 : nushki\n",
      "Processing Record 19 of Set 2 : sinnamary\n",
      "Processing Record 20 of Set 2 : butaritari\n",
      "Processing Record 21 of Set 2 : avarua\n",
      "Processing Record 22 of Set 2 : hambantota\n",
      "Processing Record 23 of Set 2 : cap malheureux\n",
      "Processing Record 24 of Set 2 : kapaa\n",
      "Processing Record 25 of Set 2 : kaitangata\n",
      "Processing Record 26 of Set 2 : shimoda\n",
      "Processing Record 27 of Set 2 : torres\n",
      "Processing Record 28 of Set 2 : bridlington\n",
      "Processing Record 29 of Set 2 : khatanga\n",
      "Processing Record 30 of Set 2 : lagoa\n",
      "Processing Record 31 of Set 2 : swansea\n",
      "Processing Record 32 of Set 2 : moron\n",
      "Processing Record 33 of Set 2 : cape town\n",
      "City not found. Skipping...\n",
      "Processing Record 34 of Set 2 : vila franca do campo\n",
      "Processing Record 35 of Set 2 : chokurdakh\n",
      "Processing Record 36 of Set 2 : boguchar\n",
      "Processing Record 37 of Set 2 : torbay\n",
      "Processing Record 38 of Set 2 : padang\n",
      "Processing Record 39 of Set 2 : pundaguitan\n",
      "Processing Record 40 of Set 2 : lakes entrance\n",
      "Processing Record 41 of Set 2 : antalaha\n",
      "Processing Record 42 of Set 2 : barra patuca\n",
      "Processing Record 43 of Set 2 : bredasdorp\n",
      "Processing Record 44 of Set 2 : comodoro rivadavia\n",
      "Processing Record 45 of Set 2 : shu\n",
      "Processing Record 46 of Set 2 : belmonte\n",
      "Processing Record 47 of Set 2 : xuddur\n",
      "Processing Record 48 of Set 2 : sabang\n",
      "Processing Record 49 of Set 2 : yarensk\n",
      "Processing Record 50 of Set 2 : norman wells\n",
      "Processing Record 0 of Set 3 : deputatskiy\n",
      "Processing Record 1 of Set 3 : itarema\n",
      "Processing Record 2 of Set 3 : pozo colorado\n",
      "Processing Record 3 of Set 3 : bengkulu\n",
      "Processing Record 4 of Set 3 : atuona\n",
      "Processing Record 5 of Set 3 : faanui\n",
      "Processing Record 6 of Set 3 : avera\n",
      "Processing Record 7 of Set 3 : arkhipo-osipovka\n",
      "Processing Record 8 of Set 3 : cabo san lucas\n",
      "Processing Record 9 of Set 3 : new norfolk\n",
      "Processing Record 10 of Set 3 : naples\n",
      "Processing Record 11 of Set 3 : lasa\n",
      "Processing Record 12 of Set 3 : yellowknife\n",
      "Processing Record 13 of Set 3 : ponta do sol\n",
      "Processing Record 14 of Set 3 : gebre guracha\n",
      "City not found. Skipping...\n",
      "Processing Record 15 of Set 3 : kailua\n",
      "Processing Record 16 of Set 3 : nanma\n",
      "Processing Record 17 of Set 3 : mingshui\n",
      "Processing Record 18 of Set 3 : olafsvik\n",
      "Processing Record 19 of Set 3 : grand-santi\n",
      "Processing Record 20 of Set 3 : waingapu\n",
      "City not found. Skipping...\n",
      "City not found. Skipping...\n",
      "Processing Record 21 of Set 3 : talnakh\n",
      "Processing Record 22 of Set 3 : sinjar\n",
      "Processing Record 23 of Set 3 : fort nelson\n",
      "Processing Record 24 of Set 3 : vaini\n",
      "Processing Record 25 of Set 3 : esperance\n",
      "City not found. Skipping...\n",
      "Processing Record 26 of Set 3 : poum\n",
      "Processing Record 27 of Set 3 : alice springs\n",
      "Processing Record 28 of Set 3 : sibiti\n",
      "City not found. Skipping...\n",
      "Processing Record 29 of Set 3 : vavoua\n",
      "Processing Record 30 of Set 3 : bermejo\n",
      "Processing Record 31 of Set 3 : kailaras\n",
      "Processing Record 32 of Set 3 : zatoka\n",
      "Processing Record 33 of Set 3 : bambous virieux\n",
      "Processing Record 34 of Set 3 : pangoa\n",
      "Processing Record 35 of Set 3 : prince albert\n",
      "Processing Record 36 of Set 3 : salamanca\n",
      "Processing Record 37 of Set 3 : mehamn\n",
      "Processing Record 38 of Set 3 : haines junction\n",
      "Processing Record 39 of Set 3 : nizwa\n",
      "Processing Record 40 of Set 3 : jijiga\n",
      "Processing Record 41 of Set 3 : el alto\n",
      "City not found. Skipping...\n",
      "City not found. Skipping...\n",
      "Processing Record 42 of Set 3 : leningradskiy\n",
      "Processing Record 43 of Set 3 : havre-saint-pierre\n",
      "Processing Record 44 of Set 3 : whitley bay\n",
      "City not found. Skipping...\n",
      "Processing Record 45 of Set 3 : kidal\n",
      "Processing Record 46 of Set 3 : dongsheng\n",
      "Processing Record 47 of Set 3 : pitimbu\n",
      "Processing Record 48 of Set 3 : dagana\n",
      "City not found. Skipping...\n",
      "City not found. Skipping...\n",
      "City not found. Skipping...\n",
      "Processing Record 49 of Set 3 : christiana\n",
      "Processing Record 50 of Set 3 : makakilo city\n",
      "Processing Record 0 of Set 4 : dharur\n",
      "Processing Record 1 of Set 4 : biltine\n",
      "Processing Record 2 of Set 4 : pemangkat\n",
      "Processing Record 3 of Set 4 : itoman\n",
      "Processing Record 4 of Set 4 : yanam\n",
      "Processing Record 5 of Set 4 : methoni\n",
      "Processing Record 6 of Set 4 : hofn\n",
      "Processing Record 7 of Set 4 : bluff\n",
      "Processing Record 8 of Set 4 : walvis bay\n",
      "Processing Record 9 of Set 4 : bambanglipuro\n",
      "Processing Record 10 of Set 4 : lorengau\n",
      "Processing Record 11 of Set 4 : alofi\n",
      "Processing Record 12 of Set 4 : puerto carreno\n",
      "Processing Record 13 of Set 4 : buala\n",
      "Processing Record 14 of Set 4 : lebanon\n",
      "Processing Record 15 of Set 4 : narsaq\n",
      "Processing Record 16 of Set 4 : kokopo\n",
      "Processing Record 17 of Set 4 : clyde river\n",
      "Processing Record 18 of Set 4 : mareeba\n",
      "Processing Record 19 of Set 4 : pisco\n",
      "Processing Record 20 of Set 4 : thompson\n",
      "Processing Record 21 of Set 4 : kavaratti\n",
      "Processing Record 22 of Set 4 : lasem\n",
      "Processing Record 23 of Set 4 : la tuque\n",
      "Processing Record 24 of Set 4 : pirapora\n",
      "Processing Record 25 of Set 4 : marystown\n",
      "Processing Record 26 of Set 4 : banda aceh\n",
      "Processing Record 27 of Set 4 : turukhansk\n",
      "Processing Record 28 of Set 4 : caravelas\n",
      "Processing Record 29 of Set 4 : gusau\n",
      "Processing Record 30 of Set 4 : taitung\n",
      "Processing Record 31 of Set 4 : ust-maya\n",
      "Processing Record 32 of Set 4 : ajdabiya\n",
      "Processing Record 33 of Set 4 : lazaro cardenas\n",
      "Processing Record 34 of Set 4 : pevek\n",
      "Processing Record 35 of Set 4 : kavieng\n",
      "Processing Record 36 of Set 4 : nanchong\n"
     ]
    },
    {
     "name": "stdout",
     "output_type": "stream",
     "text": [
      "Processing Record 37 of Set 4 : port hedland\n",
      "Processing Record 38 of Set 4 : havre\n",
      "Processing Record 39 of Set 4 : burnie\n",
      "Processing Record 40 of Set 4 : namibe\n",
      "Processing Record 41 of Set 4 : mar del plata\n",
      "Processing Record 42 of Set 4 : lady frere\n",
      "Processing Record 43 of Set 4 : curvelo\n",
      "Processing Record 44 of Set 4 : port elizabeth\n",
      "City not found. Skipping...\n",
      "Processing Record 45 of Set 4 : tammisaari\n",
      "Processing Record 46 of Set 4 : semnan\n",
      "Processing Record 47 of Set 4 : broome\n",
      "Processing Record 48 of Set 4 : buy\n",
      "Processing Record 49 of Set 4 : brae\n",
      "Processing Record 50 of Set 4 : guerrero negro\n",
      "Processing Record 0 of Set 5 : ponta delgada\n",
      "Processing Record 1 of Set 5 : yuci\n",
      "Processing Record 2 of Set 5 : ust-kuyga\n",
      "Processing Record 3 of Set 5 : dossor\n",
      "Processing Record 4 of Set 5 : abu kamal\n",
      "Processing Record 5 of Set 5 : severo-kurilsk\n",
      "Processing Record 6 of Set 5 : mahebourg\n",
      "Processing Record 7 of Set 5 : hithadhoo\n",
      "Processing Record 8 of Set 5 : arraial do cabo\n",
      "Processing Record 9 of Set 5 : ribeira grande\n",
      "Processing Record 10 of Set 5 : arica\n",
      "City not found. Skipping...\n",
      "City not found. Skipping...\n",
      "City not found. Skipping...\n",
      "Processing Record 11 of Set 5 : tasiilaq\n",
      "Processing Record 12 of Set 5 : vung tau\n",
      "Processing Record 13 of Set 5 : saldanha\n",
      "Processing Record 14 of Set 5 : college\n",
      "Processing Record 15 of Set 5 : dunedin\n",
      "Processing Record 16 of Set 5 : markala\n",
      "Processing Record 17 of Set 5 : rudbar\n",
      "Processing Record 18 of Set 5 : aklavik\n",
      "Processing Record 19 of Set 5 : henties bay\n",
      "Processing Record 20 of Set 5 : hasaki\n",
      "Processing Record 21 of Set 5 : tarana\n",
      "Processing Record 22 of Set 5 : vardo\n",
      "Processing Record 23 of Set 5 : klaksvik\n",
      "Processing Record 24 of Set 5 : saint-joseph\n",
      "Processing Record 25 of Set 5 : krusevac\n",
      "Processing Record 26 of Set 5 : yenagoa\n",
      "Processing Record 27 of Set 5 : katangli\n",
      "Processing Record 28 of Set 5 : pisz\n",
      "Processing Record 29 of Set 5 : sovetskiy\n",
      "City not found. Skipping...\n",
      "Processing Record 30 of Set 5 : cayenne\n",
      "Processing Record 31 of Set 5 : coquimbo\n",
      "Processing Record 32 of Set 5 : airai\n",
      "Processing Record 33 of Set 5 : aswan\n",
      "Processing Record 34 of Set 5 : mitchell\n",
      "Processing Record 35 of Set 5 : san patricio\n",
      "Processing Record 36 of Set 5 : beipiao\n",
      "Processing Record 37 of Set 5 : serenje\n",
      "Processing Record 38 of Set 5 : calmar\n",
      "Processing Record 39 of Set 5 : vila\n",
      "Processing Record 40 of Set 5 : karpogory\n",
      "Processing Record 41 of Set 5 : egvekinot\n",
      "City not found. Skipping...\n",
      "Processing Record 42 of Set 5 : port macquarie\n",
      "Processing Record 43 of Set 5 : canavieiras\n",
      "Processing Record 44 of Set 5 : manokwari\n",
      "Processing Record 45 of Set 5 : tilichiki\n",
      "Processing Record 46 of Set 5 : moroni\n",
      "Processing Record 47 of Set 5 : byron bay\n",
      "Processing Record 48 of Set 5 : terney\n",
      "Processing Record 49 of Set 5 : oktyabrskoye\n",
      "Processing Record 50 of Set 5 : saint george\n",
      "Processing Record 0 of Set 6 : huarmey\n",
      "Processing Record 1 of Set 6 : kuandian\n",
      "Processing Record 2 of Set 6 : karratha\n",
      "City not found. Skipping...\n",
      "Processing Record 3 of Set 6 : ouadda\n",
      "Processing Record 4 of Set 6 : tuatapere\n",
      "City not found. Skipping...\n",
      "Processing Record 5 of Set 6 : choix\n",
      "Processing Record 6 of Set 6 : praia da vitoria\n",
      "Processing Record 7 of Set 6 : mumford\n",
      "Processing Record 8 of Set 6 : hopfgarten\n",
      "Processing Record 9 of Set 6 : conakry\n",
      "Processing Record 10 of Set 6 : flin flon\n",
      "Processing Record 11 of Set 6 : carnarvon\n",
      "Processing Record 12 of Set 6 : rorvik\n",
      "Processing Record 13 of Set 6 : balkanabat\n",
      "Processing Record 14 of Set 6 : leh\n",
      "Processing Record 15 of Set 6 : sao joao da barra\n",
      "Processing Record 16 of Set 6 : jose de freitas\n",
      "Processing Record 17 of Set 6 : rocha\n",
      "Processing Record 18 of Set 6 : cacoal\n",
      "Processing Record 19 of Set 6 : goderich\n",
      "Processing Record 20 of Set 6 : santa luzia\n",
      "Processing Record 21 of Set 6 : paysandu\n",
      "Processing Record 22 of Set 6 : victoria\n",
      "City not found. Skipping...\n",
      "Processing Record 23 of Set 6 : korla\n",
      "Processing Record 24 of Set 6 : thunder bay\n",
      "Processing Record 25 of Set 6 : port huron\n",
      "Processing Record 26 of Set 6 : rio cuarto\n",
      "Processing Record 27 of Set 6 : la ronge\n",
      "Processing Record 28 of Set 6 : nanortalik\n",
      "Processing Record 29 of Set 6 : tignere\n",
      "Processing Record 30 of Set 6 : vila do maio\n",
      "Processing Record 31 of Set 6 : navan\n",
      "Processing Record 32 of Set 6 : asau\n",
      "Processing Record 33 of Set 6 : biak\n",
      "Processing Record 34 of Set 6 : majene\n",
      "Processing Record 35 of Set 6 : iwanai\n",
      "Processing Record 36 of Set 6 : kibara\n",
      "City not found. Skipping...\n",
      "Processing Record 37 of Set 6 : ginir\n",
      "Processing Record 38 of Set 6 : castro\n",
      "Processing Record 39 of Set 6 : grenfell\n",
      "Processing Record 40 of Set 6 : bethel\n",
      "Processing Record 41 of Set 6 : katsuura\n",
      "Processing Record 42 of Set 6 : talara\n",
      "Processing Record 43 of Set 6 : yeppoon\n",
      "City not found. Skipping...\n",
      "Processing Record 44 of Set 6 : amazar\n",
      "Processing Record 45 of Set 6 : sooke\n",
      "Processing Record 46 of Set 6 : kuching\n",
      "Processing Record 47 of Set 6 : willowmore\n",
      "Processing Record 48 of Set 6 : yingcheng\n",
      "Processing Record 49 of Set 6 : chumphon\n",
      "Processing Record 50 of Set 6 : cherskiy\n",
      "Processing Record 0 of Set 7 : paamiut\n",
      "Processing Record 1 of Set 7 : olinda\n",
      "Processing Record 2 of Set 7 : camacha\n",
      "Processing Record 3 of Set 7 : lago da pedra\n",
      "Processing Record 4 of Set 7 : geraldton\n",
      "Processing Record 5 of Set 7 : port blair\n",
      "City not found. Skipping...\n",
      "Processing Record 6 of Set 7 : provideniya\n",
      "Processing Record 7 of Set 7 : gat\n",
      "Processing Record 8 of Set 7 : zheleznodorozhnyy\n",
      "Processing Record 9 of Set 7 : alyangula\n",
      "Processing Record 10 of Set 7 : obukhiv\n",
      "City not found. Skipping...\n",
      "Processing Record 11 of Set 7 : bowen\n",
      "Processing Record 12 of Set 7 : fairbanks\n",
      "Processing Record 13 of Set 7 : jumla\n",
      "Processing Record 14 of Set 7 : baruun-urt\n",
      "Processing Record 15 of Set 7 : pangody\n",
      "Processing Record 16 of Set 7 : kismayo\n",
      "Processing Record 17 of Set 7 : chuy\n",
      "Processing Record 18 of Set 7 : ariquemes\n",
      "Processing Record 19 of Set 7 : motygino\n",
      "Processing Record 20 of Set 7 : margate\n",
      "Processing Record 21 of Set 7 : petatlan\n",
      "Processing Record 22 of Set 7 : quepos\n",
      "Processing Record 23 of Set 7 : zhigansk\n",
      "Processing Record 24 of Set 7 : port hardy\n",
      "Processing Record 25 of Set 7 : udachnyy\n",
      "Processing Record 26 of Set 7 : ballitoville\n",
      "Processing Record 27 of Set 7 : zvishavane\n",
      "Processing Record 28 of Set 7 : grand gaube\n",
      "Processing Record 29 of Set 7 : lonavale\n",
      "Processing Record 30 of Set 7 : the valley\n",
      "Processing Record 31 of Set 7 : ternate\n",
      "Processing Record 32 of Set 7 : mayor pablo lagerenza\n",
      "Processing Record 33 of Set 7 : conde\n",
      "Processing Record 34 of Set 7 : sechura\n",
      "Processing Record 35 of Set 7 : luanda\n",
      "Processing Record 36 of Set 7 : saint-pierre\n",
      "Processing Record 37 of Set 7 : evensk\n",
      "Processing Record 38 of Set 7 : isangel\n",
      "Processing Record 39 of Set 7 : luwuk\n",
      "Processing Record 40 of Set 7 : ulladulla\n",
      "Processing Record 41 of Set 7 : san andres\n",
      "Processing Record 42 of Set 7 : pavlodar\n",
      "Processing Record 43 of Set 7 : naliya\n",
      "Processing Record 44 of Set 7 : mount isa\n",
      "Processing Record 45 of Set 7 : hamilton\n",
      "Processing Record 46 of Set 7 : west bay\n",
      "Processing Record 47 of Set 7 : cidreira\n",
      "Processing Record 48 of Set 7 : los llanos de aridane\n",
      "Processing Record 49 of Set 7 : acarau\n",
      "Processing Record 50 of Set 7 : nokaneng\n",
      "Processing Record 0 of Set 8 : akureyri\n",
      "Processing Record 1 of Set 8 : avanigadda\n",
      "Processing Record 2 of Set 8 : libourne\n",
      "Processing Record 3 of Set 8 : saryozek\n",
      "Processing Record 4 of Set 8 : nuuk\n",
      "Processing Record 5 of Set 8 : ostrovnoy\n",
      "Processing Record 6 of Set 8 : mangan\n",
      "Processing Record 7 of Set 8 : kalakamati\n",
      "City not found. Skipping...\n",
      "Processing Record 8 of Set 8 : valpacos\n",
      "Processing Record 9 of Set 8 : shebunino\n",
      "Processing Record 10 of Set 8 : paita\n",
      "Processing Record 11 of Set 8 : presidencia roque saenz pena\n",
      "Processing Record 12 of Set 8 : zapolyarnyy\n",
      "Processing Record 13 of Set 8 : nishihara\n",
      "Processing Record 14 of Set 8 : saskylakh\n",
      "Processing Record 15 of Set 8 : bathsheba\n",
      "Processing Record 16 of Set 8 : urumqi\n",
      "Processing Record 17 of Set 8 : naze\n",
      "Processing Record 18 of Set 8 : coihaique\n",
      "Processing Record 19 of Set 8 : basco\n",
      "Processing Record 20 of Set 8 : tripoli\n",
      "Processing Record 21 of Set 8 : boden\n",
      "Processing Record 22 of Set 8 : shenjiamen\n",
      "Processing Record 23 of Set 8 : salinopolis\n"
     ]
    },
    {
     "name": "stdout",
     "output_type": "stream",
     "text": [
      "Processing Record 24 of Set 8 : santa comba\n",
      "Processing Record 25 of Set 8 : kununurra\n",
      "Processing Record 26 of Set 8 : herne bay\n",
      "Processing Record 27 of Set 8 : luderitz\n",
      "Processing Record 28 of Set 8 : palm beach gardens\n",
      "Processing Record 29 of Set 8 : iqaluit\n",
      "City not found. Skipping...\n",
      "Processing Record 30 of Set 8 : groningen\n",
      "City not found. Skipping...\n",
      "Processing Record 31 of Set 8 : san carlos de bariloche\n",
      "Processing Record 32 of Set 8 : torrijos\n",
      "Processing Record 33 of Set 8 : anadyr\n",
      "Processing Record 34 of Set 8 : encantado\n",
      "Processing Record 35 of Set 8 : necochea\n",
      "Processing Record 36 of Set 8 : bayana\n",
      "Processing Record 37 of Set 8 : cortland\n",
      "Processing Record 38 of Set 8 : dikson\n",
      "Processing Record 39 of Set 8 : freistadt\n",
      "Processing Record 40 of Set 8 : batagay-alyta\n",
      "Processing Record 41 of Set 8 : gravelbourg\n",
      "Processing Record 42 of Set 8 : turayf\n",
      "Processing Record 43 of Set 8 : banepa\n",
      "Processing Record 44 of Set 8 : suamico\n",
      "Processing Record 45 of Set 8 : padre bernardo\n",
      "Processing Record 46 of Set 8 : portland\n",
      "Processing Record 47 of Set 8 : touros\n",
      "Processing Record 48 of Set 8 : pangnirtung\n",
      "Processing Record 49 of Set 8 : mattru\n",
      "Processing Record 50 of Set 8 : vredendal\n",
      "Processing Record 0 of Set 9 : surt\n",
      "Processing Record 1 of Set 9 : coolum beach\n",
      "Processing Record 2 of Set 9 : sao miguel\n",
      "Processing Record 3 of Set 9 : lata\n",
      "Processing Record 4 of Set 9 : novikovo\n",
      "Processing Record 5 of Set 9 : mabaruma\n",
      "Processing Record 6 of Set 9 : ban phai\n",
      "Processing Record 7 of Set 9 : chicama\n",
      "Processing Record 8 of Set 9 : yima\n",
      "Processing Record 9 of Set 9 : malartic\n",
      "Processing Record 10 of Set 9 : buta\n",
      "Processing Record 11 of Set 9 : lubu\n",
      "Processing Record 12 of Set 9 : mount gambier\n",
      "Processing Record 13 of Set 9 : acapulco\n",
      "Processing Record 14 of Set 9 : moindou\n",
      "Processing Record 15 of Set 9 : sambava\n",
      "Processing Record 16 of Set 9 : kahului\n",
      "Processing Record 17 of Set 9 : kimbe\n",
      "Processing Record 18 of Set 9 : sibolga\n",
      "Processing Record 19 of Set 9 : ilabaya\n",
      "Processing Record 20 of Set 9 : vila velha\n",
      "Processing Record 21 of Set 9 : socorro\n",
      "Processing Record 22 of Set 9 : zyryanka\n",
      "Processing Record 23 of Set 9 : port augusta\n",
      "Processing Record 24 of Set 9 : marsa matruh\n",
      "Processing Record 25 of Set 9 : erenhot\n",
      "Processing Record 26 of Set 9 : georgetown\n",
      "City not found. Skipping...\n",
      "Processing Record 27 of Set 9 : hue\n",
      "City not found. Skipping...\n",
      "Processing Record 28 of Set 9 : tocopilla\n",
      "Processing Record 29 of Set 9 : birao\n",
      "Processing Record 30 of Set 9 : inzhavino\n",
      "Processing Record 31 of Set 9 : keti bandar\n",
      "Processing Record 32 of Set 9 : gizo\n",
      "Processing Record 33 of Set 9 : kathmandu\n",
      "Processing Record 34 of Set 9 : serebryanyy bor\n",
      "Processing Record 35 of Set 9 : miastko\n",
      "Processing Record 36 of Set 9 : praya\n",
      "Processing Record 37 of Set 9 : oranjemund\n",
      "City not found. Skipping...\n",
      "Processing Record 38 of Set 9 : srednekolymsk\n",
      "Processing Record 39 of Set 9 : bilibino\n",
      "Processing Record 40 of Set 9 : hervey bay\n",
      "Processing Record 41 of Set 9 : ahipara\n",
      "Processing Record 42 of Set 9 : inhambane\n",
      "City not found. Skipping...\n",
      "Processing Record 43 of Set 9 : iskateley\n",
      "Processing Record 44 of Set 9 : muyezerskiy\n",
      "Processing Record 45 of Set 9 : orangeburg\n",
      "Processing Record 46 of Set 9 : olpad\n",
      "City not found. Skipping...\n",
      "Processing Record 47 of Set 9 : pashiya\n",
      "Processing Record 48 of Set 9 : matay\n",
      "Processing Record 49 of Set 9 : noumea\n",
      "Processing Record 50 of Set 9 : almaznyy\n",
      "Processing Record 0 of Set 10 : vermillion\n",
      "Processing Record 1 of Set 10 : grindavik\n",
      "Processing Record 2 of Set 10 : jiaonan\n",
      "Processing Record 3 of Set 10 : hokitika\n",
      "Processing Record 4 of Set 10 : meulaboh\n",
      "Processing Record 5 of Set 10 : parabel\n",
      "Processing Record 6 of Set 10 : tete\n",
      "Processing Record 7 of Set 10 : termini imerese\n"
     ]
    }
   ],
   "source": [
    "print(\"Beginning Data Retrieval\")\n",
    "print(\"---------------------------\")\n",
    "base_url = \"http://api.openweathermap.org/data/2.5/weather?\"\n",
    "units = \"imperial\"\n",
    "query_url = f\"{base_url}appid={weather_api_key}&units={units}&q=\"\n",
    "\n",
    "# For each city name in cities list, do below things...\n",
    "for index, city in enumerate(cities, start = 1):\n",
    "    try:\n",
    "        response = requests.get(query_url + city).json()\n",
    "        city_name_list.append(response[\"name\"])\n",
    "        cloudiness_list.append(response[\"clouds\"][\"all\"])\n",
    "        country_list.append(response[\"sys\"][\"country\"])\n",
    "        date_list.append(response[\"dt\"])\n",
    "        humidity_list.append(response[\"main\"][\"humidity\"])\n",
    "        lat_list.append(response[\"coord\"][\"lat\"])\n",
    "        lng_list.append(response[\"coord\"][\"lon\"])\n",
    "        max_temp_list.append(response['main']['temp_max'])\n",
    "        wind_speed_list.append(response[\"wind\"][\"speed\"])\n",
    "        if index_counter > 49:\n",
    "            index_counter = 0\n",
    "            set_counter = set_counter + 1\n",
    "    \n",
    "        else:\n",
    "            index_counter = index_counter + 1\n",
    "            \n",
    "        print(f\"Processing Record {index_counter} of Set {set_counter} : {city}\") \n",
    "  \n",
    "    except(KeyError, IndexError):\n",
    "        print(\"City not found. Skipping...\")\n",
    "\n",
    "print(\"-----------------------------\")\n",
    "print(\"Data Retrieval Complete\")\n",
    "print(\"-----------------------------\")"
   ]
  },
  {
   "cell_type": "markdown",
   "metadata": {},
   "source": [
    "### Convert Raw Data to DataFrame\n",
    "* Export the city data into a .csv.\n",
    "* Display the DataFrame"
   ]
  },
  {
   "cell_type": "code",
   "execution_count": null,
   "metadata": {},
   "outputs": [],
   "source": [
    "# Create a panda data frame using data retrieved\n",
    "weather_dict = pd.DataFrame({ \n",
    "                \"City\" : city_name_list,\n",
    "                \"Lat\" : lat_list,\n",
    "                \"Lng\" : lng_list,\n",
    "                \"Max Temp\" : max_temp_list,\n",
    "                \"Humidity\" : humidity_list,\n",
    "                \"Cloudiness\" : cloudiness_list,\n",
    "                \"Wind Speed\" : wind_speed_list,\n",
    "                \"Country\" : country_list,\n",
    "                \"Date\" : date_list\n",
    "})"
   ]
  },
  {
   "cell_type": "code",
   "execution_count": null,
   "metadata": {},
   "outputs": [],
   "source": [
    "# Count data\n",
    "weather_dict.count()"
   ]
  },
  {
   "cell_type": "code",
   "execution_count": null,
   "metadata": {},
   "outputs": [],
   "source": [
    "# Display the Data Frame\n",
    "weather_dict"
   ]
  },
  {
   "cell_type": "code",
   "execution_count": null,
   "metadata": {},
   "outputs": [],
   "source": [
    "# Save city data into a csv file\n",
    "weather_dict.to_csv(\"../output_data/cities.csv\", index = False)"
   ]
  },
  {
   "cell_type": "markdown",
   "metadata": {},
   "source": [
    "## Inspect the data and remove the cities where the humidity > 100%.\n",
    "----\n",
    "Skip this step if there are no cities that have humidity > 100%. "
   ]
  },
  {
   "cell_type": "code",
   "execution_count": null,
   "metadata": {},
   "outputs": [],
   "source": [
    "weather_dict.describe()"
   ]
  },
  {
   "cell_type": "code",
   "execution_count": null,
   "metadata": {},
   "outputs": [],
   "source": [
    "#  Get the indices of cities that have humidity over 100%.\n"
   ]
  },
  {
   "cell_type": "code",
   "execution_count": null,
   "metadata": {},
   "outputs": [],
   "source": [
    "# Make a new DataFrame equal to the city data to drop all humidity outliers by index.\n",
    "# Passing \"inplace=False\" will make a copy of the city_data DataFrame, which we call \"clean_city_data\".\n"
   ]
  },
  {
   "cell_type": "markdown",
   "metadata": {},
   "source": [
    "## Plotting the Data\n",
    "* Use proper labeling of the plots using plot titles (including date of analysis) and axes labels.\n",
    "* Save the plotted figures as .pngs."
   ]
  },
  {
   "cell_type": "markdown",
   "metadata": {},
   "source": [
    "## Latitude vs. Temperature Plot"
   ]
  },
  {
   "cell_type": "code",
   "execution_count": null,
   "metadata": {
    "scrolled": true
   },
   "outputs": [],
   "source": [
    "# Create Latitude vs. Temperature Plot scatter plot\n",
    "plt.scatter(weather_dict[\"Lat\"], weather_dict[\"Max Temp\"], facecolor = \"green\", edgecolor = \"black\")\n",
    "\n",
    "# Set title\n",
    "plt.title(\"City Latitude vs. Max Temperature (10/19/20)\")\n",
    "\n",
    "# Set x axis label\n",
    "plt.xlabel(\"Laitude\")\n",
    "\n",
    "# Set y axis label\n",
    "plt.ylabel(\"Max Temperature (F)\")\n",
    "\n",
    "# Set grid line\n",
    "plt.grid(linestyle='-', linewidth=1, alpha = 0.5)\n",
    "\n",
    "# Save the plotted figure as .pngs\n",
    "plt.savefig(\"../Images/City Latitude vs Max Temperature.png\")"
   ]
  },
  {
   "cell_type": "markdown",
   "metadata": {},
   "source": [
    "Cites closer to 0 on the latitude axis temperature tends to be a lot higher and the higher the latitude the temperature starts to drop"
   ]
  },
  {
   "cell_type": "markdown",
   "metadata": {},
   "source": [
    "## Latitude vs. Humidity Plot"
   ]
  },
  {
   "cell_type": "code",
   "execution_count": null,
   "metadata": {},
   "outputs": [],
   "source": [
    "# Create Latitude vs. Humidity Plot scatter plot\n",
    "plt.scatter(weather_dict[\"Lat\"], weather_dict[\"Humidity\"], facecolor = \"purple\", edgecolor = \"black\")\n",
    "\n",
    "# Set title\n",
    "plt.title(\"City Latitude vs. Humidity (10/19/20)\")\n",
    "\n",
    "# Set x axis label\n",
    "plt.xlabel(\"Latitude\")\n",
    "\n",
    "# Set y axis label\n",
    "plt.ylabel(\"Humidity (%)\")\n",
    "\n",
    "# Set grid line\n",
    "plt.grid(linestyle='-', linewidth=1, alpha = 0.5)\n",
    "\n",
    "# Save the plotted figure as .pngs\n",
    "plt.savefig(\"../Images/City Latitude vs Humidity.png\")"
   ]
  },
  {
   "cell_type": "markdown",
   "metadata": {},
   "source": [
    "Cites throughout any latitude tend to have around the same percent of humidity "
   ]
  },
  {
   "cell_type": "markdown",
   "metadata": {},
   "source": [
    "## Latitude vs. Cloudiness Plot"
   ]
  },
  {
   "cell_type": "code",
   "execution_count": null,
   "metadata": {
    "scrolled": true
   },
   "outputs": [],
   "source": [
    "# Create Latitude vs. Cloudiness Plot scatter plot\n",
    "plt.scatter(weather_dict[\"Lat\"], weather_dict[\"Cloudiness\"], facecolor = \"yellow\", edgecolor = \"black\")\n",
    "\n",
    "# Set title\n",
    "plt.title(\"City Latitude vs. Cloudiness (10/19/20)\")\n",
    "\n",
    "# Set x axis label\n",
    "plt.xlabel(\"Latitude\")\n",
    "\n",
    "# Set y axis label\n",
    "plt.ylabel(\"Cloudiness (%)\")\n",
    "\n",
    "# Set y axis limit\n",
    "plt.ylim(-5,105)\n",
    "\n",
    "# Set grid line\n",
    "plt.grid(linestyle='-', linewidth=1, alpha = 0.5)\n",
    "\n",
    "# Save the plotted figure as .pngs\n",
    "plt.savefig(\"../Images/City Latitude vs Cloudiness.png\")"
   ]
  },
  {
   "cell_type": "markdown",
   "metadata": {},
   "source": [
    "The random cities that were generated is showing that cloudiness can range in all percentages depending on the latitude "
   ]
  },
  {
   "cell_type": "markdown",
   "metadata": {},
   "source": [
    "## Latitude vs. Wind Speed Plot"
   ]
  },
  {
   "cell_type": "code",
   "execution_count": null,
   "metadata": {
    "scrolled": true
   },
   "outputs": [],
   "source": [
    "# Create Latitude vs. Wind Speed scatter plot\n",
    "plt.scatter(weather_dict[\"Lat\"], weather_dict[\"Wind Speed\"], facecolor = \"orange\", edgecolor = \"black\")\n",
    "plt.title(\"City Latitude vs. Wind Speed (mph) (10/19/20)\")\n",
    "\n",
    "# Set x axis label\n",
    "plt.xlabel(\"Latitude\")\n",
    "\n",
    "# Set y axis label\n",
    "plt.ylabel(\"Wind Speed (%)\")\n",
    "\n",
    "# Set y axis limit\n",
    "plt.ylim(-2,50)\n",
    "\n",
    "# Set grid line\n",
    "plt.grid(linestyle='-', linewidth=1, alpha = 0.5)\n",
    "\n",
    "# Save the plotted figure as .pngs\n",
    "plt.savefig(\"../Images/City Latitude vs Wind Speed (mph).png\")"
   ]
  },
  {
   "cell_type": "markdown",
   "metadata": {},
   "source": [
    "Wind speed perentage max is no more than 30 percent based of the latitude of the cities that were pulled"
   ]
  },
  {
   "cell_type": "markdown",
   "metadata": {},
   "source": [
    "## Linear Regression"
   ]
  },
  {
   "cell_type": "code",
   "execution_count": null,
   "metadata": {},
   "outputs": [],
   "source": [
    "# Create Northern and Southern Hemisphere DataFrames\n",
    "northern_hemisphere = weather_dict.loc[weather_dict[\"Lat\"] >= 0]\n",
    "southern_hemisphere = weather_dict.loc[weather_dict[\"Lat\"] < 0]"
   ]
  },
  {
   "cell_type": "code",
   "execution_count": null,
   "metadata": {},
   "outputs": [],
   "source": [
    "# Define function for creating linear agression and scatter plot\n",
    "def linear_agression(x,y):\n",
    "    print(f\"The r-squared is : {round(st.pearsonr(x, y)[0],2)}\")\n",
    "    (slope, intercept, rvalue, pvalue, stderr) = linregress(x, y)\n",
    "    regress_values = x * slope + intercept\n",
    "    line_eq = \"y = \" + str(round(slope,2)) + \"x + \" + str(round(intercept,2))\n",
    "    plt.scatter(x, y)\n",
    "    plt.plot(x,regress_values,\"r-\")\n",
    "    return line_eq\n",
    "\n",
    "# Define a fuction for annotating\n",
    "def annotate(line_eq, a, b):\n",
    "    plt.annotate(line_eq,(a,b),fontsize=15,color=\"red\")"
   ]
  },
  {
   "cell_type": "markdown",
   "metadata": {},
   "source": [
    "####  Northern Hemisphere - Max Temp vs. Latitude Linear Regression"
   ]
  },
  {
   "cell_type": "code",
   "execution_count": null,
   "metadata": {
    "scrolled": true
   },
   "outputs": [],
   "source": [
    "# Call an function #1\n",
    "equation = linear_agression(northern_hemisphere[\"Lat\"], northern_hemisphere[\"Max Temp\"])\n",
    "\n",
    "# Call an function #2\n",
    "annotate(equation, 0, 0)\n",
    "\n",
    "# Set a title\n",
    "plt.title(\"Northern Hemisphere - Max Temp vs. Latitude Linear Regression\")\n",
    "\n",
    "# Set xlabel\n",
    "plt.xlabel(\"Latitude\")\n",
    "\n",
    "# Set ylabel\n",
    "plt.ylabel(\"Max Temp (F)\")\n",
    "\n",
    "# Save the figure\n",
    "plt.savefig(\"../Images/Northern Hemisphere - Max Temp vs. Latitude Linear Regression.png\")"
   ]
  },
  {
   "cell_type": "markdown",
   "metadata": {},
   "source": [
    "Moving across the latitude of the cities that were pulled shows that the higher the latitude the lower the max temperature"
   ]
  },
  {
   "cell_type": "markdown",
   "metadata": {},
   "source": [
    "####  Southern Hemisphere - Max Temp vs. Latitude Linear Regression"
   ]
  },
  {
   "cell_type": "code",
   "execution_count": null,
   "metadata": {
    "scrolled": true
   },
   "outputs": [],
   "source": [
    "# Call an function #1\n",
    "equation = linear_agression(southern_hemisphere[\"Lat\"],southern_hemisphere[\"Max Temp\"])\n",
    "\n",
    "# Call an function #2\n",
    "annotate(equation, -30, 50)\n",
    "\n",
    "# Set a title\n",
    "plt.title(\"Southern Hemisphere - Max Temp vs. Latitude Linear Regression\")\n",
    "\n",
    "# Set xlabel\n",
    "plt.xlabel(\"Latitude\")\n",
    "\n",
    "# Set ylabel\n",
    "plt.ylabel(\"Max Temp (F)\")\n",
    "\n",
    "# Save the figure\n",
    "plt.savefig(\"../Images/Southern Hemisphere - Max Temp vs. Latitude Linear Regression.png\")"
   ]
  },
  {
   "cell_type": "markdown",
   "metadata": {},
   "source": [
    "the lower the latitude the higher the max temperature tends to be"
   ]
  },
  {
   "cell_type": "markdown",
   "metadata": {},
   "source": [
    "####  Northern Hemisphere - Humidity (%) vs. Latitude Linear Regression"
   ]
  },
  {
   "cell_type": "code",
   "execution_count": null,
   "metadata": {
    "scrolled": true
   },
   "outputs": [],
   "source": [
    "# Call an function #1\n",
    "equation = linear_agression(northern_hemisphere[\"Lat\"], northern_hemisphere[\"Humidity\"])\n",
    "\n",
    "# Call an function #2\n",
    "annotate(equation, 40, 15)\n",
    "\n",
    "# Set a title\n",
    "plt.title(\"Northern Hemisphere - Humidity (%) vs. Latitude Linear Regression\")\n",
    "\n",
    "# Set xlabel\n",
    "plt.xlabel(\"Latitude\")\n",
    "\n",
    "# Set ylabel\n",
    "plt.ylabel(\"Humidity (%)\")\n",
    "\n",
    "# Save the figure\n",
    "plt.savefig(\"../Images/Northern Hemisphere - Humidity (%) vs. Latitude Linear Regression.png\")"
   ]
  },
  {
   "cell_type": "markdown",
   "metadata": {},
   "source": [
    "The humidity levels across the latitude tend to be very consistent with each point above 0"
   ]
  },
  {
   "cell_type": "markdown",
   "metadata": {},
   "source": [
    "####  Southern Hemisphere - Humidity (%) vs. Latitude Linear Regression"
   ]
  },
  {
   "cell_type": "code",
   "execution_count": null,
   "metadata": {
    "scrolled": true
   },
   "outputs": [],
   "source": [
    "# Call an function #1\n",
    "equation = linear_agression(southern_hemisphere[\"Lat\"], southern_hemisphere[\"Humidity\"])\n",
    "\n",
    "# Call an function #2\n",
    "annotate(equation, -40, 50)\n",
    "\n",
    "# Set title\n",
    "plt.title(\"Southern Hemisphere - Humidity (%) vs. Latitude Linear Regression\")\n",
    "\n",
    "# Set xlabel\n",
    "plt.xlabel(\"Latitude\")\n",
    "\n",
    "# Set ylabel\n",
    "plt.ylabel(\"Humidity (%)\")\n",
    "\n",
    "# Save the figure\n",
    "plt.savefig(\"../Images/Southern Hemisphere - Humidity (%) vs. Latitude Linear Regression.png\")"
   ]
  },
  {
   "cell_type": "markdown",
   "metadata": {},
   "source": [
    "There is a positive correlation between latitude and humidity within the southern hemisphere"
   ]
  },
  {
   "cell_type": "markdown",
   "metadata": {},
   "source": [
    "####  Northern Hemisphere - Cloudiness (%) vs. Latitude Linear Regression"
   ]
  },
  {
   "cell_type": "code",
   "execution_count": null,
   "metadata": {
    "scrolled": true
   },
   "outputs": [],
   "source": [
    "# Call an function #1\n",
    "equation = linear_agression(northern_hemisphere[\"Lat\"], northern_hemisphere[\"Cloudiness\"])\n",
    "\n",
    "# Call an function #2\n",
    "annotate(equation, 30, 40)\n",
    "\n",
    "# Set a title\n",
    "plt.title(\"Northern Hemisphere - Cloudiness (%) vs. Latitude Linear Regression\")\n",
    "\n",
    "# Set xlabel\n",
    "plt.xlabel(\"Latitude\")\n",
    "\n",
    "# Set ylabel\n",
    "plt.ylabel(\"Cloudiness (%)\")\n",
    "\n",
    "# Save the figure\n",
    "plt.savefig(\"../Images/Northern Hemisphere - Cloudiness (%) vs. Latitude Linear Regression.png\")"
   ]
  },
  {
   "cell_type": "markdown",
   "metadata": {},
   "source": [
    "The correlation across the northern hemisphere and latitude above 0 has a positive trend"
   ]
  },
  {
   "cell_type": "markdown",
   "metadata": {},
   "source": [
    "####  Southern Hemisphere - Cloudiness (%) vs. Latitude Linear Regression"
   ]
  },
  {
   "cell_type": "code",
   "execution_count": null,
   "metadata": {},
   "outputs": [],
   "source": [
    "# Call an function #1\n",
    "equation = linear_agression(southern_hemisphere[\"Lat\"], southern_hemisphere[\"Cloudiness\"])\n",
    "\n",
    "# Call an function #2\n",
    "annotate(equation, -30, 40)\n",
    "\n",
    "# Set a title\n",
    "plt.title(\"Southern Hemisphere - Cloudiness (%) vs. Latitude Linear Regression\")\n",
    "\n",
    "# Set xlabel\n",
    "plt.xlabel(\"Latitude\")\n",
    "\n",
    "# Set ylabel\n",
    "plt.ylabel(\"Cloudiness (%)\")\n",
    "\n",
    "# Save the figure\n",
    "plt.savefig(\"../Images/Southern Hemisphere - Cloudiness (%) vs. Latitude Linear Regression.png\")"
   ]
  },
  {
   "cell_type": "markdown",
   "metadata": {},
   "source": [
    "The correlation across the southern hemisphere and latitude below 0 has an upward trend"
   ]
  },
  {
   "cell_type": "markdown",
   "metadata": {},
   "source": [
    "####  Northern Hemisphere - Wind Speed (mph) vs. Latitude Linear Regression"
   ]
  },
  {
   "cell_type": "code",
   "execution_count": null,
   "metadata": {},
   "outputs": [],
   "source": [
    "\n",
    "# Call an function #1\n",
    "equation = linear_agression(northern_hemisphere[\"Lat\"], northern_hemisphere[\"Wind Speed\"])\n",
    "\n",
    "# Call an function #2\n",
    "annotate(equation, 40, 20)\n",
    "\n",
    "# Set  title\n",
    "plt.title(\"Northern Hemisphere - Wind Speed (mph) vs. Latitude Linear Regression\")\n",
    "\n",
    "# Set xlabel\n",
    "plt.xlabel(\"Latitude\")\n",
    "\n",
    "# Set ylabel\n",
    "plt.ylabel(\"Wind Speed (mph)\")\n",
    "\n",
    "# Save the figure\n",
    "plt.savefig(\"../Images/Northern Hemisphere - Wind Speed vs. Latitude Linear Regression.png\")"
   ]
  },
  {
   "cell_type": "markdown",
   "metadata": {},
   "source": [
    "The correlation across the northen hemisphere and latitude above 0 is steady and even"
   ]
  },
  {
   "cell_type": "markdown",
   "metadata": {},
   "source": [
    "####  Southern Hemisphere - Wind Speed (mph) vs. Latitude Linear Regression"
   ]
  },
  {
   "cell_type": "code",
   "execution_count": null,
   "metadata": {
    "scrolled": true
   },
   "outputs": [],
   "source": [
    "# Call an function #1\n",
    "equation = linear_agression(southern_hemisphere[\"Lat\"], southern_hemisphere[\"Wind Speed\"])\n",
    "\n",
    "# Call an function #2\n",
    "annotate(equation, -30, 15)\n",
    "\n",
    "# Set  title\n",
    "plt.title(\"Southern Hemisphere - Wind Speed (mph) vs. Latitude Linear Regression\")\n",
    "\n",
    "# Set xlabel\n",
    "plt.xlabel(\"Latitude\")\n",
    "\n",
    "# Set ylabel\n",
    "plt.ylabel(\"Wind Speed (mph)\")\n",
    "\n",
    "# Save the figure\n",
    "plt.savefig(\"../Images/Southern Hemisphere - Wind Speed vs. Latitude Linear Regression.png\")"
   ]
  },
  {
   "cell_type": "markdown",
   "metadata": {},
   "source": [
    "The correlation across the southern hemisphere and latitude below 0 is steady and even"
   ]
  },
  {
   "cell_type": "code",
   "execution_count": null,
   "metadata": {},
   "outputs": [],
   "source": []
  },
  {
   "cell_type": "code",
   "execution_count": null,
   "metadata": {},
   "outputs": [],
   "source": []
  },
  {
   "cell_type": "code",
   "execution_count": null,
   "metadata": {},
   "outputs": [],
   "source": []
  }
 ],
 "metadata": {
  "anaconda-cloud": {},
  "kernel_info": {
   "name": "python3"
  },
  "kernelspec": {
   "display_name": "Python 3",
   "language": "python",
   "name": "python3"
  },
  "language_info": {
   "codemirror_mode": {
    "name": "ipython",
    "version": 3
   },
   "file_extension": ".py",
   "mimetype": "text/x-python",
   "name": "python",
   "nbconvert_exporter": "python",
   "pygments_lexer": "ipython3",
   "version": "3.6.12"
  },
  "latex_envs": {
   "LaTeX_envs_menu_present": true,
   "autoclose": false,
   "autocomplete": true,
   "bibliofile": "biblio.bib",
   "cite_by": "apalike",
   "current_citInitial": 1,
   "eqLabelWithNumbers": true,
   "eqNumInitial": 1,
   "hotkeys": {
    "equation": "Ctrl-E",
    "itemize": "Ctrl-I"
   },
   "labels_anchors": false,
   "latex_user_defs": false,
   "report_style_numbering": false,
   "user_envs_cfg": false
  },
  "nteract": {
   "version": "0.12.3"
  }
 },
 "nbformat": 4,
 "nbformat_minor": 2
}
