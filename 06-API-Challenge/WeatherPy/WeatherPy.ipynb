{
 "cells": [
  {
   "cell_type": "markdown",
   "metadata": {},
   "source": [
    "# WeatherPy\n",
    "----\n",
    "\n",
    "#### Note\n",
    "* Instructions have been included for each segment. You do not have to follow them exactly, but they are included to help you think through the steps."
   ]
  },
  {
   "cell_type": "code",
   "execution_count": 1,
   "metadata": {},
   "outputs": [],
   "source": [
    "# Dependencies and Setup\n",
    "import matplotlib.pyplot as plt\n",
    "import pandas as pd\n",
    "import numpy as np\n",
    "import requests\n",
    "import time\n",
    "import json\n",
    "import scipy.stats as st\n",
    "from scipy.stats import linregress\n",
    "\n",
    "# Import API key\n",
    "from api_keys import weather_api_key\n",
    "\n",
    "# Incorporated citipy to determine city based on latitude and longitude\n",
    "from citipy import citipy\n",
    "\n",
    "# Output File (CSV)\n",
    "output_data_file = \"output_data/cities.csv\"\n",
    "\n",
    "# Range of latitudes and longitudes\n",
    "lat_range = (-90, 90)\n",
    "lng_range = (-180, 180)"
   ]
  },
  {
   "cell_type": "markdown",
   "metadata": {},
   "source": [
    "## Generate Cities List"
   ]
  },
  {
   "cell_type": "code",
   "execution_count": 2,
   "metadata": {},
   "outputs": [
    {
     "data": {
      "text/plain": [
       "620"
      ]
     },
     "execution_count": 2,
     "metadata": {},
     "output_type": "execute_result"
    }
   ],
   "source": [
    "# List for holding lat_lngs and cities\n",
    "lat_lngs = []\n",
    "cities = []\n",
    "\n",
    "# Create a set of random lat and lng combinations\n",
    "lats = np.random.uniform(low=-90.000, high=90.000, size=1500)\n",
    "lngs = np.random.uniform(low=-180.000, high=180.000, size=1500)\n",
    "lat_lngs = zip(lats, lngs)\n",
    "\n",
    "# Identify nearest city for each lat, lng combination\n",
    "for lat_lng in lat_lngs:\n",
    "    city = citipy.nearest_city(lat_lng[0], lat_lng[1]).city_name\n",
    "    \n",
    "    # If the city is unique, then add it to a our cities list\n",
    "    if city not in cities:\n",
    "        cities.append(city)\n",
    "\n",
    "# Print the city count to confirm sufficient count\n",
    "len(cities)"
   ]
  },
  {
   "cell_type": "markdown",
   "metadata": {},
   "source": [
    "### Perform API Calls\n",
    "* Perform a weather check on each city using a series of successive API calls.\n",
    "* Include a print log of each city as it'sbeing processed (with the city number and city name).\n"
   ]
  },
  {
   "cell_type": "code",
   "execution_count": 3,
   "metadata": {},
   "outputs": [],
   "source": [
    "city_name_list = []\n",
    "cloudiness_list = []\n",
    "country_list = []\n",
    "date_list = []\n",
    "humidity_list = []\n",
    "lat_list = []\n",
    "lng_list = []\n",
    "max_temp_list = []\n",
    "wind_speed_list = []\n",
    "index_counter = 0\n",
    "set_counter = 1"
   ]
  },
  {
   "cell_type": "code",
   "execution_count": 4,
   "metadata": {},
   "outputs": [
    {
     "name": "stdout",
     "output_type": "stream",
     "text": [
      "Beginning Data Retrieval\n",
      "---------------------------\n",
      "Processing Record 1 of Set 1 : iqaluit\n",
      "Processing Record 2 of Set 1 : saskylakh\n",
      "Processing Record 3 of Set 1 : butaritari\n",
      "Processing Record 4 of Set 1 : cape town\n",
      "Processing Record 5 of Set 1 : ushuaia\n",
      "Processing Record 6 of Set 1 : kiama\n",
      "Processing Record 7 of Set 1 : maloy\n",
      "Processing Record 8 of Set 1 : flin flon\n",
      "Processing Record 9 of Set 1 : braintree\n",
      "Processing Record 10 of Set 1 : lompoc\n",
      "Processing Record 11 of Set 1 : avarua\n",
      "Processing Record 12 of Set 1 : leh\n",
      "Processing Record 13 of Set 1 : port-cartier\n",
      "Processing Record 14 of Set 1 : mount gambier\n",
      "Processing Record 15 of Set 1 : atuona\n",
      "Processing Record 16 of Set 1 : leua\n",
      "Processing Record 17 of Set 1 : luanda\n",
      "Processing Record 18 of Set 1 : comodoro rivadavia\n",
      "Processing Record 19 of Set 1 : zeerust\n",
      "Processing Record 20 of Set 1 : san patricio\n",
      "Processing Record 21 of Set 1 : barrow\n",
      "Processing Record 22 of Set 1 : mataura\n",
      "Processing Record 23 of Set 1 : esmeralda\n",
      "Processing Record 24 of Set 1 : ribeira grande\n",
      "Processing Record 25 of Set 1 : busayra\n",
      "Processing Record 26 of Set 1 : vigrestad\n",
      "Processing Record 27 of Set 1 : tianpeng\n",
      "Processing Record 28 of Set 1 : villa guerrero\n",
      "Processing Record 29 of Set 1 : dongsheng\n",
      "Processing Record 30 of Set 1 : hermanus\n",
      "Processing Record 31 of Set 1 : saldanha\n",
      "Processing Record 32 of Set 1 : lebu\n",
      "Processing Record 33 of Set 1 : carutapera\n",
      "City not found. Skipping...\n",
      "Processing Record 34 of Set 1 : victoria\n",
      "Processing Record 35 of Set 1 : east london\n",
      "Processing Record 36 of Set 1 : rikitea\n",
      "Processing Record 37 of Set 1 : darhan\n",
      "Processing Record 38 of Set 1 : dukat\n",
      "Processing Record 39 of Set 1 : atbasar\n",
      "Processing Record 40 of Set 1 : coihaique\n",
      "Processing Record 41 of Set 1 : albany\n",
      "Processing Record 42 of Set 1 : sakakah\n",
      "Processing Record 43 of Set 1 : manono\n",
      "Processing Record 44 of Set 1 : goundam\n",
      "Processing Record 45 of Set 1 : petropavlovsk-kamchatskiy\n",
      "Processing Record 46 of Set 1 : jamestown\n",
      "Processing Record 47 of Set 1 : lakatoro\n",
      "Processing Record 48 of Set 1 : puerto escondido\n",
      "Processing Record 49 of Set 1 : paita\n",
      "Processing Record 50 of Set 1 : saint anthony\n",
      "Processing Record 0 of Set 2 : busselton\n",
      "Processing Record 1 of Set 2 : port elizabeth\n",
      "Processing Record 2 of Set 2 : port blair\n",
      "Processing Record 3 of Set 2 : bredasdorp\n",
      "Processing Record 4 of Set 2 : georgetown\n",
      "Processing Record 5 of Set 2 : salou\n",
      "Processing Record 6 of Set 2 : ilulissat\n",
      "Processing Record 7 of Set 2 : tual\n",
      "Processing Record 8 of Set 2 : bethel\n",
      "City not found. Skipping...\n",
      "Processing Record 9 of Set 2 : nampula\n",
      "Processing Record 10 of Set 2 : vostok\n",
      "Processing Record 11 of Set 2 : carnarvon\n",
      "Processing Record 12 of Set 2 : bluff\n",
      "Processing Record 13 of Set 2 : mahebourg\n",
      "Processing Record 14 of Set 2 : port alfred\n",
      "Processing Record 15 of Set 2 : orlik\n",
      "Processing Record 16 of Set 2 : hilo\n",
      "Processing Record 17 of Set 2 : masaurhi\n",
      "Processing Record 18 of Set 2 : qiongshan\n",
      "Processing Record 19 of Set 2 : pevek\n",
      "Processing Record 20 of Set 2 : palmer\n",
      "Processing Record 21 of Set 2 : hithadhoo\n",
      "City not found. Skipping...\n",
      "Processing Record 22 of Set 2 : yellowknife\n",
      "Processing Record 23 of Set 2 : khatanga\n",
      "Processing Record 24 of Set 2 : moletai\n",
      "Processing Record 25 of Set 2 : chokurdakh\n",
      "Processing Record 26 of Set 2 : moerai\n",
      "Processing Record 27 of Set 2 : pangnirtung\n",
      "Processing Record 28 of Set 2 : hobart\n",
      "Processing Record 29 of Set 2 : kolvereid\n",
      "Processing Record 30 of Set 2 : kodiak\n",
      "Processing Record 31 of Set 2 : torbay\n",
      "Processing Record 32 of Set 2 : bam\n",
      "Processing Record 33 of Set 2 : mayya\n",
      "Processing Record 34 of Set 2 : hushitai\n",
      "Processing Record 35 of Set 2 : hasaki\n",
      "Processing Record 36 of Set 2 : brufut\n",
      "City not found. Skipping...\n",
      "Processing Record 37 of Set 2 : north bend\n",
      "Processing Record 38 of Set 2 : kaitangata\n",
      "Processing Record 39 of Set 2 : punta arenas\n",
      "Processing Record 40 of Set 2 : gao\n",
      "Processing Record 41 of Set 2 : nongstoin\n",
      "Processing Record 42 of Set 2 : agirish\n",
      "Processing Record 43 of Set 2 : biltine\n",
      "Processing Record 44 of Set 2 : kemin\n",
      "Processing Record 45 of Set 2 : grand gaube\n",
      "Processing Record 46 of Set 2 : presidencia roque saenz pena\n",
      "City not found. Skipping...\n",
      "Processing Record 47 of Set 2 : jega\n",
      "Processing Record 48 of Set 2 : trondheim\n",
      "Processing Record 49 of Set 2 : macamic\n",
      "City not found. Skipping...\n",
      "Processing Record 50 of Set 2 : udachnyy\n",
      "Processing Record 0 of Set 3 : bonavista\n",
      "Processing Record 1 of Set 3 : the valley\n",
      "Processing Record 2 of Set 3 : adre\n",
      "City not found. Skipping...\n",
      "Processing Record 3 of Set 3 : vaini\n",
      "Processing Record 4 of Set 3 : la asuncion\n",
      "City not found. Skipping...\n",
      "Processing Record 5 of Set 3 : tombouctou\n",
      "Processing Record 6 of Set 3 : severo-kurilsk\n",
      "Processing Record 7 of Set 3 : yafran\n",
      "Processing Record 8 of Set 3 : aklavik\n",
      "City not found. Skipping...\n",
      "Processing Record 9 of Set 3 : tiksi\n",
      "Processing Record 10 of Set 3 : kapaa\n",
      "Processing Record 11 of Set 3 : nova odesa\n",
      "Processing Record 12 of Set 3 : masaka\n",
      "Processing Record 13 of Set 3 : sungairaya\n",
      "Processing Record 14 of Set 3 : suez\n",
      "Processing Record 15 of Set 3 : faya\n",
      "Processing Record 16 of Set 3 : polovinnoye\n",
      "City not found. Skipping...\n",
      "Processing Record 17 of Set 3 : kyzyl\n",
      "Processing Record 18 of Set 3 : nome\n",
      "City not found. Skipping...\n",
      "Processing Record 19 of Set 3 : los llanos de aridane\n",
      "Processing Record 20 of Set 3 : thompson\n",
      "Processing Record 21 of Set 3 : chara\n",
      "Processing Record 22 of Set 3 : tuktoyaktuk\n",
      "Processing Record 23 of Set 3 : veraval\n",
      "Processing Record 24 of Set 3 : porto novo\n",
      "Processing Record 25 of Set 3 : nalut\n",
      "Processing Record 26 of Set 3 : new norfolk\n",
      "Processing Record 27 of Set 3 : cayenne\n",
      "Processing Record 28 of Set 3 : dikson\n",
      "Processing Record 29 of Set 3 : isangel\n",
      "Processing Record 30 of Set 3 : mar del plata\n",
      "Processing Record 31 of Set 3 : gamba\n",
      "Processing Record 32 of Set 3 : praia da vitoria\n",
      "Processing Record 33 of Set 3 : mata grande\n",
      "Processing Record 34 of Set 3 : padang\n",
      "Processing Record 35 of Set 3 : grindavik\n",
      "Processing Record 36 of Set 3 : gravdal\n",
      "City not found. Skipping...\n",
      "Processing Record 37 of Set 3 : cidreira\n",
      "Processing Record 38 of Set 3 : challapata\n",
      "Processing Record 39 of Set 3 : bull savanna\n",
      "Processing Record 40 of Set 3 : tasiilaq\n",
      "Processing Record 41 of Set 3 : ostrovnoy\n",
      "Processing Record 42 of Set 3 : saint george\n",
      "Processing Record 43 of Set 3 : la paz\n",
      "Processing Record 44 of Set 3 : tambacounda\n",
      "Processing Record 45 of Set 3 : souillac\n",
      "Processing Record 46 of Set 3 : flinders\n",
      "City not found. Skipping...\n",
      "Processing Record 47 of Set 3 : san angelo\n",
      "Processing Record 48 of Set 3 : poum\n",
      "Processing Record 49 of Set 3 : luba\n",
      "Processing Record 50 of Set 3 : aksu\n",
      "Processing Record 0 of Set 4 : north platte\n",
      "Processing Record 1 of Set 4 : buala\n",
      "Processing Record 2 of Set 4 : rocha\n",
      "City not found. Skipping...\n",
      "City not found. Skipping...\n",
      "Processing Record 3 of Set 4 : wum\n",
      "Processing Record 4 of Set 4 : tornio\n",
      "Processing Record 5 of Set 4 : rabo de peixe\n",
      "Processing Record 6 of Set 4 : olinda\n",
      "Processing Record 7 of Set 4 : marienburg\n",
      "Processing Record 8 of Set 4 : chapais\n",
      "City not found. Skipping...\n",
      "Processing Record 9 of Set 4 : velyka bahachka\n",
      "Processing Record 10 of Set 4 : aksha\n",
      "Processing Record 11 of Set 4 : port hedland\n",
      "City not found. Skipping...\n",
      "Processing Record 12 of Set 4 : la ronge\n",
      "Processing Record 13 of Set 4 : puerto ayora\n",
      "Processing Record 14 of Set 4 : tuatapere\n",
      "Processing Record 15 of Set 4 : ponta do sol\n",
      "Processing Record 16 of Set 4 : klyuchi\n",
      "Processing Record 17 of Set 4 : guarapari\n",
      "Processing Record 18 of Set 4 : kahului\n",
      "Processing Record 19 of Set 4 : ambilobe\n",
      "Processing Record 20 of Set 4 : ribeirao bonito\n",
      "Processing Record 21 of Set 4 : arraial do cabo\n",
      "Processing Record 22 of Set 4 : davila\n",
      "Processing Record 23 of Set 4 : callaway\n",
      "Processing Record 24 of Set 4 : high level\n",
      "Processing Record 25 of Set 4 : price\n",
      "Processing Record 26 of Set 4 : chuy\n",
      "Processing Record 27 of Set 4 : ferme-neuve\n",
      "Processing Record 28 of Set 4 : khasan\n",
      "Processing Record 29 of Set 4 : guadalupe y calvo\n",
      "Processing Record 30 of Set 4 : beidao\n",
      "Processing Record 31 of Set 4 : akyab\n",
      "Processing Record 32 of Set 4 : esperance\n",
      "Processing Record 33 of Set 4 : bulawayo\n",
      "Processing Record 34 of Set 4 : hami\n"
     ]
    },
    {
     "name": "stdout",
     "output_type": "stream",
     "text": [
      "Processing Record 35 of Set 4 : wattegama\n",
      "Processing Record 36 of Set 4 : egra\n",
      "Processing Record 37 of Set 4 : wawa\n",
      "Processing Record 38 of Set 4 : santarem\n",
      "Processing Record 39 of Set 4 : puksoozero\n",
      "Processing Record 40 of Set 4 : marathon\n",
      "Processing Record 41 of Set 4 : kupang\n",
      "Processing Record 42 of Set 4 : longyearbyen\n",
      "Processing Record 43 of Set 4 : mecca\n",
      "Processing Record 44 of Set 4 : kavaratti\n",
      "Processing Record 45 of Set 4 : iracoubo\n",
      "Processing Record 46 of Set 4 : leningradskiy\n",
      "Processing Record 47 of Set 4 : gornopravdinsk\n",
      "Processing Record 48 of Set 4 : nazareno\n",
      "Processing Record 49 of Set 4 : krasnoselkup\n",
      "Processing Record 50 of Set 4 : zhuhai\n",
      "Processing Record 0 of Set 5 : provideniya\n",
      "Processing Record 1 of Set 5 : vila franca do campo\n",
      "Processing Record 2 of Set 5 : okha\n",
      "Processing Record 3 of Set 5 : taft\n",
      "Processing Record 4 of Set 5 : kruisfontein\n",
      "Processing Record 5 of Set 5 : celestun\n",
      "Processing Record 6 of Set 5 : kirakira\n",
      "Processing Record 7 of Set 5 : talnakh\n",
      "Processing Record 8 of Set 5 : huarmey\n",
      "Processing Record 9 of Set 5 : nisia floresta\n",
      "Processing Record 10 of Set 5 : jerome\n",
      "Processing Record 11 of Set 5 : chegdomyn\n",
      "Processing Record 12 of Set 5 : zhangjiakou\n",
      "Processing Record 13 of Set 5 : henties bay\n",
      "Processing Record 14 of Set 5 : norman wells\n",
      "Processing Record 15 of Set 5 : itarema\n",
      "City not found. Skipping...\n",
      "Processing Record 16 of Set 5 : mount isa\n",
      "Processing Record 17 of Set 5 : capaci\n",
      "Processing Record 18 of Set 5 : caborca\n",
      "Processing Record 19 of Set 5 : college\n",
      "Processing Record 20 of Set 5 : kropotkin\n",
      "Processing Record 21 of Set 5 : iskateley\n",
      "City not found. Skipping...\n",
      "Processing Record 22 of Set 5 : port lincoln\n",
      "Processing Record 23 of Set 5 : ola\n",
      "Processing Record 24 of Set 5 : yar-sale\n",
      "Processing Record 25 of Set 5 : geraldton\n",
      "Processing Record 26 of Set 5 : bathsheba\n",
      "City not found. Skipping...\n",
      "Processing Record 27 of Set 5 : fairbanks\n",
      "Processing Record 28 of Set 5 : qaanaaq\n",
      "Processing Record 29 of Set 5 : doha\n",
      "Processing Record 30 of Set 5 : berlin\n",
      "City not found. Skipping...\n",
      "Processing Record 31 of Set 5 : aykhal\n",
      "Processing Record 32 of Set 5 : zhigansk\n",
      "Processing Record 33 of Set 5 : pascagoula\n",
      "Processing Record 34 of Set 5 : sapa\n",
      "Processing Record 35 of Set 5 : half moon bay\n",
      "Processing Record 36 of Set 5 : deogarh\n",
      "Processing Record 37 of Set 5 : airai\n",
      "Processing Record 38 of Set 5 : klaksvik\n",
      "Processing Record 39 of Set 5 : ziway\n",
      "Processing Record 40 of Set 5 : beyneu\n",
      "City not found. Skipping...\n",
      "Processing Record 41 of Set 5 : clyde river\n",
      "Processing Record 42 of Set 5 : morro bay\n",
      "Processing Record 43 of Set 5 : port hardy\n",
      "Processing Record 44 of Set 5 : grande prairie\n",
      "Processing Record 45 of Set 5 : camopi\n",
      "Processing Record 46 of Set 5 : vanderhoof\n",
      "Processing Record 47 of Set 5 : sitka\n",
      "Processing Record 48 of Set 5 : bida\n",
      "Processing Record 49 of Set 5 : grants pass\n",
      "Processing Record 50 of Set 5 : katherine\n",
      "Processing Record 0 of Set 6 : khalilabad\n",
      "Processing Record 1 of Set 6 : coahuayana\n",
      "Processing Record 2 of Set 6 : falmouth\n",
      "Processing Record 3 of Set 6 : petropavlivka\n",
      "Processing Record 4 of Set 6 : songjianghe\n",
      "Processing Record 5 of Set 6 : catuday\n",
      "Processing Record 6 of Set 6 : petapa\n",
      "Processing Record 7 of Set 6 : atar\n",
      "Processing Record 8 of Set 6 : nelson bay\n",
      "Processing Record 9 of Set 6 : castro\n",
      "Processing Record 10 of Set 6 : gdansk\n",
      "Processing Record 11 of Set 6 : hualmay\n",
      "Processing Record 12 of Set 6 : buraydah\n",
      "Processing Record 13 of Set 6 : santa marta\n",
      "City not found. Skipping...\n",
      "Processing Record 14 of Set 6 : waverly\n",
      "Processing Record 15 of Set 6 : wanaka\n",
      "Processing Record 16 of Set 6 : chor\n",
      "Processing Record 17 of Set 6 : vuktyl\n",
      "Processing Record 18 of Set 6 : krasnoborsk\n",
      "Processing Record 19 of Set 6 : dalkola\n",
      "Processing Record 20 of Set 6 : mehamn\n",
      "Processing Record 21 of Set 6 : kununurra\n",
      "Processing Record 22 of Set 6 : namibe\n",
      "Processing Record 23 of Set 6 : naze\n",
      "Processing Record 24 of Set 6 : ancud\n",
      "Processing Record 25 of Set 6 : fortuna\n",
      "Processing Record 26 of Set 6 : conakry\n",
      "Processing Record 27 of Set 6 : salalah\n",
      "Processing Record 28 of Set 6 : roald\n",
      "Processing Record 29 of Set 6 : nikolskoye\n",
      "Processing Record 30 of Set 6 : richards bay\n",
      "Processing Record 31 of Set 6 : lata\n",
      "City not found. Skipping...\n",
      "Processing Record 32 of Set 6 : broken hill\n",
      "Processing Record 33 of Set 6 : kokoda\n",
      "Processing Record 34 of Set 6 : upernavik\n",
      "Processing Record 35 of Set 6 : menongue\n",
      "Processing Record 36 of Set 6 : lima\n",
      "Processing Record 37 of Set 6 : kavieng\n",
      "Processing Record 38 of Set 6 : vardo\n",
      "Processing Record 39 of Set 6 : hobyo\n",
      "Processing Record 40 of Set 6 : severomuysk\n",
      "Processing Record 41 of Set 6 : teguise\n",
      "Processing Record 42 of Set 6 : plettenberg bay\n",
      "Processing Record 43 of Set 6 : komsomolskiy\n",
      "Processing Record 44 of Set 6 : pasinler\n",
      "Processing Record 45 of Set 6 : pitimbu\n",
      "Processing Record 46 of Set 6 : valverde del camino\n",
      "Processing Record 47 of Set 6 : tarpon springs\n",
      "Processing Record 48 of Set 6 : almeirim\n",
      "Processing Record 49 of Set 6 : lavrentiya\n",
      "City not found. Skipping...\n",
      "Processing Record 50 of Set 6 : puerto montt\n",
      "City not found. Skipping...\n",
      "Processing Record 0 of Set 7 : okhotsk\n",
      "Processing Record 1 of Set 7 : muroto\n",
      "Processing Record 2 of Set 7 : winnemucca\n",
      "Processing Record 3 of Set 7 : imbituba\n",
      "Processing Record 4 of Set 7 : guerrero negro\n",
      "Processing Record 5 of Set 7 : hamilton\n",
      "Processing Record 6 of Set 7 : singleton\n",
      "Processing Record 7 of Set 7 : los chiles\n",
      "Processing Record 8 of Set 7 : ayan\n",
      "Processing Record 9 of Set 7 : tchibanga\n",
      "Processing Record 10 of Set 7 : nizhniy kuranakh\n",
      "Processing Record 11 of Set 7 : constitucion\n",
      "City not found. Skipping...\n",
      "Processing Record 12 of Set 7 : nanortalik\n",
      "Processing Record 13 of Set 7 : obidos\n",
      "Processing Record 14 of Set 7 : nhulunbuy\n",
      "Processing Record 15 of Set 7 : itoman\n",
      "Processing Record 16 of Set 7 : tommot\n",
      "Processing Record 17 of Set 7 : kavarskas\n",
      "Processing Record 18 of Set 7 : dzhebariki-khaya\n",
      "Processing Record 19 of Set 7 : thinadhoo\n",
      "Processing Record 20 of Set 7 : belaya gora\n",
      "Processing Record 21 of Set 7 : gudibanda\n",
      "Processing Record 22 of Set 7 : ulladulla\n",
      "Processing Record 23 of Set 7 : bolzano\n",
      "Processing Record 24 of Set 7 : constancia\n",
      "Processing Record 25 of Set 7 : rawson\n",
      "Processing Record 26 of Set 7 : buzuluk\n",
      "Processing Record 27 of Set 7 : pisco\n",
      "Processing Record 28 of Set 7 : arkhangelsk\n",
      "Processing Record 29 of Set 7 : meulaboh\n",
      "Processing Record 30 of Set 7 : lorengau\n",
      "Processing Record 31 of Set 7 : puri\n",
      "Processing Record 32 of Set 7 : yinchuan\n",
      "Processing Record 33 of Set 7 : luchenza\n",
      "Processing Record 34 of Set 7 : portland\n",
      "Processing Record 35 of Set 7 : shaunavon\n",
      "Processing Record 36 of Set 7 : imeni poliny osipenko\n",
      "Processing Record 37 of Set 7 : mount hagen\n",
      "Processing Record 38 of Set 7 : hit\n",
      "City not found. Skipping...\n",
      "Processing Record 39 of Set 7 : touros\n",
      "Processing Record 40 of Set 7 : kenora\n",
      "Processing Record 41 of Set 7 : belyy yar\n",
      "Processing Record 42 of Set 7 : japura\n",
      "Processing Record 43 of Set 7 : faanui\n",
      "Processing Record 44 of Set 7 : kita\n",
      "Processing Record 45 of Set 7 : hay river\n",
      "Processing Record 46 of Set 7 : hofn\n",
      "Processing Record 47 of Set 7 : cabo san lucas\n",
      "Processing Record 48 of Set 7 : bondo\n",
      "Processing Record 49 of Set 7 : el alto\n",
      "Processing Record 50 of Set 7 : nantucket\n",
      "Processing Record 0 of Set 8 : tiarei\n",
      "Processing Record 1 of Set 8 : yulara\n",
      "Processing Record 2 of Set 8 : los lunas\n",
      "Processing Record 3 of Set 8 : ciprian porumbescu\n",
      "Processing Record 4 of Set 8 : haimen\n",
      "Processing Record 5 of Set 8 : tanete\n",
      "Processing Record 6 of Set 8 : columbia\n",
      "Processing Record 7 of Set 8 : folldal\n",
      "Processing Record 8 of Set 8 : filadelfia\n",
      "Processing Record 9 of Set 8 : englewood\n",
      "Processing Record 10 of Set 8 : najran\n",
      "Processing Record 11 of Set 8 : khambhaliya\n",
      "City not found. Skipping...\n",
      "Processing Record 12 of Set 8 : adwa\n",
      "Processing Record 13 of Set 8 : colombo\n",
      "Processing Record 14 of Set 8 : mareeba\n",
      "Processing Record 15 of Set 8 : walvis bay\n",
      "Processing Record 16 of Set 8 : chardara\n",
      "Processing Record 17 of Set 8 : luderitz\n",
      "Processing Record 18 of Set 8 : mayahi\n",
      "Processing Record 19 of Set 8 : quatre cocos\n",
      "Processing Record 20 of Set 8 : mugla\n",
      "Processing Record 21 of Set 8 : namatanai\n",
      "Processing Record 22 of Set 8 : stokmarknes\n",
      "Processing Record 23 of Set 8 : wakkanai\n"
     ]
    },
    {
     "name": "stdout",
     "output_type": "stream",
     "text": [
      "Processing Record 24 of Set 8 : lufilufi\n",
      "Processing Record 25 of Set 8 : tubuala\n",
      "Processing Record 26 of Set 8 : atlantic city\n",
      "City not found. Skipping...\n",
      "Processing Record 27 of Set 8 : tautira\n",
      "Processing Record 28 of Set 8 : progreso\n",
      "Processing Record 29 of Set 8 : prince george\n",
      "Processing Record 30 of Set 8 : banbury\n",
      "Processing Record 31 of Set 8 : brae\n",
      "Processing Record 32 of Set 8 : san vicente\n",
      "Processing Record 33 of Set 8 : cherskiy\n",
      "Processing Record 34 of Set 8 : marsa matruh\n",
      "Processing Record 35 of Set 8 : pahrump\n",
      "Processing Record 36 of Set 8 : dandong\n",
      "Processing Record 37 of Set 8 : ust-nera\n",
      "Processing Record 38 of Set 8 : hluti\n",
      "Processing Record 39 of Set 8 : antofagasta\n",
      "Processing Record 40 of Set 8 : mayachnyy\n",
      "Processing Record 41 of Set 8 : waitati\n",
      "Processing Record 42 of Set 8 : wewak\n",
      "Processing Record 43 of Set 8 : jiuquan\n",
      "Processing Record 44 of Set 8 : kushiro\n",
      "Processing Record 45 of Set 8 : broome\n",
      "City not found. Skipping...\n",
      "Processing Record 46 of Set 8 : kumta\n",
      "Processing Record 47 of Set 8 : felanitx\n",
      "Processing Record 48 of Set 8 : lubango\n",
      "Processing Record 49 of Set 8 : kutum\n",
      "Processing Record 50 of Set 8 : puerto colombia\n",
      "Processing Record 0 of Set 9 : palembang\n",
      "Processing Record 1 of Set 9 : aksum\n",
      "Processing Record 2 of Set 9 : bambous virieux\n",
      "Processing Record 3 of Set 9 : cap-aux-meules\n",
      "Processing Record 4 of Set 9 : chase\n",
      "Processing Record 5 of Set 9 : omsukchan\n",
      "Processing Record 6 of Set 9 : dondo\n",
      "Processing Record 7 of Set 9 : beloha\n",
      "City not found. Skipping...\n",
      "Processing Record 8 of Set 9 : urucara\n",
      "Processing Record 9 of Set 9 : mana\n",
      "Processing Record 10 of Set 9 : filingue\n",
      "Processing Record 11 of Set 9 : surgut\n",
      "Processing Record 12 of Set 9 : belleville\n",
      "Processing Record 13 of Set 9 : tazmalt\n",
      "Processing Record 14 of Set 9 : kinlochleven\n",
      "Processing Record 15 of Set 9 : coquimbo\n",
      "Processing Record 16 of Set 9 : reconquista\n",
      "Processing Record 17 of Set 9 : sasni\n",
      "Processing Record 18 of Set 9 : xinzhi\n",
      "City not found. Skipping...\n",
      "Processing Record 19 of Set 9 : derzhavinsk\n",
      "City not found. Skipping...\n",
      "Processing Record 20 of Set 9 : aksarka\n",
      "Processing Record 21 of Set 9 : halifax\n",
      "Processing Record 22 of Set 9 : dicabisagan\n",
      "City not found. Skipping...\n",
      "Processing Record 23 of Set 9 : vestmannaeyjar\n",
      "Processing Record 24 of Set 9 : gat\n",
      "Processing Record 25 of Set 9 : gerede\n",
      "Processing Record 26 of Set 9 : yeniseysk\n",
      "City not found. Skipping...\n",
      "Processing Record 27 of Set 9 : eirunepe\n",
      "Processing Record 28 of Set 9 : shigony\n",
      "City not found. Skipping...\n",
      "Processing Record 29 of Set 9 : mogadishu\n",
      "Processing Record 30 of Set 9 : taree\n",
      "Processing Record 31 of Set 9 : ndola\n",
      "Processing Record 32 of Set 9 : ozernovskiy\n",
      "Processing Record 33 of Set 9 : arrecife\n",
      "Processing Record 34 of Set 9 : te anau\n",
      "Processing Record 35 of Set 9 : srednekolymsk\n",
      "Processing Record 36 of Set 9 : rio gallegos\n",
      "Processing Record 37 of Set 9 : thunder bay\n",
      "Processing Record 38 of Set 9 : cehegin\n",
      "Processing Record 39 of Set 9 : caravelas\n",
      "Processing Record 40 of Set 9 : neiafu\n",
      "Processing Record 41 of Set 9 : vanimo\n",
      "Processing Record 42 of Set 9 : cabra\n",
      "City not found. Skipping...\n",
      "Processing Record 43 of Set 9 : kasongo-lunda\n",
      "Processing Record 44 of Set 9 : novo aripuana\n",
      "Processing Record 45 of Set 9 : vila velha\n",
      "Processing Record 46 of Set 9 : damphu\n",
      "Processing Record 47 of Set 9 : rio brilhante\n",
      "Processing Record 48 of Set 9 : laguna\n",
      "Processing Record 49 of Set 9 : goderich\n",
      "City not found. Skipping...\n",
      "Processing Record 50 of Set 9 : kanniyakumari\n",
      "Processing Record 0 of Set 10 : kaeo\n",
      "Processing Record 1 of Set 10 : lagos\n",
      "Processing Record 2 of Set 10 : araouane\n",
      "Processing Record 3 of Set 10 : abu samrah\n",
      "Processing Record 4 of Set 10 : beringovskiy\n",
      "Processing Record 5 of Set 10 : kidal\n",
      "Processing Record 6 of Set 10 : saint-augustin\n",
      "Processing Record 7 of Set 10 : chalala\n",
      "Processing Record 8 of Set 10 : vestmanna\n",
      "Processing Record 9 of Set 10 : odweyne\n",
      "Processing Record 10 of Set 10 : noumea\n",
      "Processing Record 11 of Set 10 : dunedin\n",
      "Processing Record 12 of Set 10 : makakilo city\n",
      "Processing Record 13 of Set 10 : hovd\n",
      "Processing Record 14 of Set 10 : sur\n",
      "Processing Record 15 of Set 10 : nkhata bay\n",
      "Processing Record 16 of Set 10 : camocim\n",
      "Processing Record 17 of Set 10 : durres\n",
      "Processing Record 18 of Set 10 : aromashevo\n",
      "Processing Record 19 of Set 10 : maragogi\n",
      "Processing Record 20 of Set 10 : morondava\n",
      "Processing Record 21 of Set 10 : sao joao da barra\n",
      "City not found. Skipping...\n",
      "Processing Record 22 of Set 10 : manokwari\n",
      "Processing Record 23 of Set 10 : narsaq\n",
      "Processing Record 24 of Set 10 : general roca\n",
      "Processing Record 25 of Set 10 : hervey bay\n",
      "Processing Record 26 of Set 10 : adrar\n",
      "Processing Record 27 of Set 10 : luklukan\n",
      "Processing Record 28 of Set 10 : sobolevo\n",
      "Processing Record 29 of Set 10 : samarai\n",
      "City not found. Skipping...\n",
      "Processing Record 30 of Set 10 : gidole\n",
      "Processing Record 31 of Set 10 : asfi\n",
      "Processing Record 32 of Set 10 : margate\n",
      "Processing Record 33 of Set 10 : candelaria\n",
      "Processing Record 34 of Set 10 : kampot\n",
      "Processing Record 35 of Set 10 : ukiah\n",
      "Processing Record 36 of Set 10 : antalaha\n",
      "Processing Record 37 of Set 10 : general pico\n",
      "Processing Record 38 of Set 10 : nueve de julio\n",
      "Processing Record 39 of Set 10 : tura\n",
      "Processing Record 40 of Set 10 : moissala\n",
      "Processing Record 41 of Set 10 : kathu\n",
      "Processing Record 42 of Set 10 : juybar\n",
      "Processing Record 43 of Set 10 : hammond\n",
      "Processing Record 44 of Set 10 : burnie\n",
      "Processing Record 45 of Set 10 : port augusta\n",
      "Processing Record 46 of Set 10 : santander\n",
      "Processing Record 47 of Set 10 : ossora\n",
      "Processing Record 48 of Set 10 : tefe\n",
      "Processing Record 49 of Set 10 : el viejo\n",
      "Processing Record 50 of Set 10 : methven\n",
      "Processing Record 0 of Set 11 : hirara\n",
      "Processing Record 1 of Set 11 : minab\n",
      "City not found. Skipping...\n",
      "Processing Record 2 of Set 11 : nakusp\n",
      "Processing Record 3 of Set 11 : takoradi\n",
      "Processing Record 4 of Set 11 : hendersonville\n",
      "Processing Record 5 of Set 11 : hutang\n",
      "Processing Record 6 of Set 11 : volchikha\n",
      "Processing Record 7 of Set 11 : nyurba\n",
      "Processing Record 8 of Set 11 : denpasar\n",
      "City not found. Skipping...\n",
      "Processing Record 9 of Set 11 : mizdah\n",
      "Processing Record 10 of Set 11 : garowe\n",
      "Processing Record 11 of Set 11 : bengkulu\n",
      "Processing Record 12 of Set 11 : ierapetra\n",
      "Processing Record 13 of Set 11 : dire\n",
      "Processing Record 14 of Set 11 : tomatlan\n",
      "City not found. Skipping...\n",
      "Processing Record 15 of Set 11 : koidu\n",
      "Processing Record 16 of Set 11 : zverinogolovskoye\n",
      "Processing Record 17 of Set 11 : yeppoon\n",
      "Processing Record 18 of Set 11 : kribi\n",
      "Processing Record 19 of Set 11 : boa vista\n",
      "Processing Record 20 of Set 11 : burgeo\n",
      "Processing Record 21 of Set 11 : dalvik\n",
      "Processing Record 22 of Set 11 : presidente medici\n",
      "Processing Record 23 of Set 11 : grants\n",
      "Processing Record 24 of Set 11 : marfino\n",
      "Processing Record 25 of Set 11 : kimbe\n",
      "Processing Record 26 of Set 11 : kawalu\n",
      "Processing Record 27 of Set 11 : riyadh\n",
      "Processing Record 28 of Set 11 : de aar\n",
      "Processing Record 29 of Set 11 : dyersburg\n",
      "Processing Record 30 of Set 11 : verkhoyansk\n",
      "Processing Record 31 of Set 11 : vicuna\n",
      "Processing Record 32 of Set 11 : prachuap khiri khan\n",
      "Processing Record 33 of Set 11 : aswan\n",
      "Processing Record 34 of Set 11 : atambua\n",
      "Processing Record 35 of Set 11 : chipinge\n",
      "City not found. Skipping...\n",
      "Processing Record 36 of Set 11 : preobrazheniye\n",
      "Processing Record 37 of Set 11 : manavalakurichi\n",
      "Processing Record 38 of Set 11 : karachi\n",
      "Processing Record 39 of Set 11 : bontang\n",
      "Processing Record 40 of Set 11 : puerto baquerizo moreno\n",
      "Processing Record 41 of Set 11 : severnyy\n",
      "Processing Record 42 of Set 11 : pokhara\n",
      "Processing Record 43 of Set 11 : rock sound\n",
      "Processing Record 44 of Set 11 : washougal\n",
      "Processing Record 45 of Set 11 : nemuro\n",
      "City not found. Skipping...\n",
      "Processing Record 46 of Set 11 : khash\n",
      "Processing Record 47 of Set 11 : vung tau\n",
      "Processing Record 48 of Set 11 : dumai\n",
      "City not found. Skipping...\n",
      "Processing Record 49 of Set 11 : alappuzha\n",
      "Processing Record 50 of Set 11 : inirida\n",
      "Processing Record 0 of Set 12 : yerbogachen\n",
      "Processing Record 1 of Set 12 : adrian\n",
      "Processing Record 2 of Set 12 : lazaro cardenas\n",
      "Processing Record 3 of Set 12 : tigil\n",
      "Processing Record 4 of Set 12 : ilhabela\n"
     ]
    },
    {
     "name": "stdout",
     "output_type": "stream",
     "text": [
      "Processing Record 5 of Set 12 : behbahan\n",
      "Processing Record 6 of Set 12 : saint-philippe\n",
      "Processing Record 7 of Set 12 : khromtau\n",
      "Processing Record 8 of Set 12 : urengoy\n",
      "Processing Record 9 of Set 12 : eyrarbakki\n",
      "Processing Record 10 of Set 12 : port lavaca\n",
      "Processing Record 11 of Set 12 : pacific grove\n",
      "Processing Record 12 of Set 12 : narayanganj\n",
      "-----------------------------\n",
      "Data Retrieval Complete\n",
      "-----------------------------\n"
     ]
    }
   ],
   "source": [
    "print(\"Beginning Data Retrieval\")\n",
    "print(\"---------------------------\")\n",
    "base_url = \"http://api.openweathermap.org/data/2.5/weather?\"\n",
    "units = \"imperial\"\n",
    "query_url = f\"{base_url}appid={weather_api_key}&units={units}&q=\"\n",
    "\n",
    "# For each city name in cities list, do below things...\n",
    "for index, city in enumerate(cities, start = 1):\n",
    "    try:\n",
    "        response = requests.get(query_url + city).json()\n",
    "        city_name_list.append(response[\"name\"])\n",
    "        cloudiness_list.append(response[\"clouds\"][\"all\"])\n",
    "        country_list.append(response[\"sys\"][\"country\"])\n",
    "        date_list.append(response[\"dt\"])\n",
    "        humidity_list.append(response[\"main\"][\"humidity\"])\n",
    "        lat_list.append(response[\"coord\"][\"lat\"])\n",
    "        lng_list.append(response[\"coord\"][\"lon\"])\n",
    "        max_temp_list.append(response['main']['temp_max'])\n",
    "        wind_speed_list.append(response[\"wind\"][\"speed\"])\n",
    "        if index_counter > 49:\n",
    "            index_counter = 0\n",
    "            set_counter = set_counter + 1\n",
    "    \n",
    "        else:\n",
    "            index_counter = index_counter + 1\n",
    "            \n",
    "        print(f\"Processing Record {index_counter} of Set {set_counter} : {city}\") \n",
    "  \n",
    "    except(KeyError, IndexError):\n",
    "        print(\"City not found. Skipping...\")\n",
    "\n",
    "print(\"-----------------------------\")\n",
    "print(\"Data Retrieval Complete\")\n",
    "print(\"-----------------------------\")"
   ]
  },
  {
   "cell_type": "markdown",
   "metadata": {},
   "source": [
    "### Convert Raw Data to DataFrame\n",
    "* Export the city data into a .csv.\n",
    "* Display the DataFrame"
   ]
  },
  {
   "cell_type": "code",
   "execution_count": 5,
   "metadata": {},
   "outputs": [],
   "source": [
    "# Create a panda data frame using data retrieved\n",
    "weather_dict = pd.DataFrame({ \n",
    "                \"City\" : city_name_list,\n",
    "                \"Lat\" : lat_list,\n",
    "                \"Lng\" : lng_list,\n",
    "                \"Max Temp\" : max_temp_list,\n",
    "                \"Humidity\" : humidity_list,\n",
    "                \"Cloudiness\" : cloudiness_list,\n",
    "                \"Wind Speed\" : wind_speed_list,\n",
    "                \"Country\" : country_list,\n",
    "                \"Date\" : date_list\n",
    "})"
   ]
  },
  {
   "cell_type": "code",
   "execution_count": 6,
   "metadata": {},
   "outputs": [
    {
     "data": {
      "text/plain": [
       "City          573\n",
       "Lat           573\n",
       "Lng           573\n",
       "Max Temp      573\n",
       "Humidity      573\n",
       "Cloudiness    573\n",
       "Wind Speed    573\n",
       "Country       573\n",
       "Date          573\n",
       "dtype: int64"
      ]
     },
     "execution_count": 6,
     "metadata": {},
     "output_type": "execute_result"
    }
   ],
   "source": [
    "# Count data\n",
    "weather_dict.count()"
   ]
  },
  {
   "cell_type": "code",
   "execution_count": 7,
   "metadata": {},
   "outputs": [
    {
     "data": {
      "text/html": [
       "<div>\n",
       "<style scoped>\n",
       "    .dataframe tbody tr th:only-of-type {\n",
       "        vertical-align: middle;\n",
       "    }\n",
       "\n",
       "    .dataframe tbody tr th {\n",
       "        vertical-align: top;\n",
       "    }\n",
       "\n",
       "    .dataframe thead th {\n",
       "        text-align: right;\n",
       "    }\n",
       "</style>\n",
       "<table border=\"1\" class=\"dataframe\">\n",
       "  <thead>\n",
       "    <tr style=\"text-align: right;\">\n",
       "      <th></th>\n",
       "      <th>City</th>\n",
       "      <th>Lat</th>\n",
       "      <th>Lng</th>\n",
       "      <th>Max Temp</th>\n",
       "      <th>Humidity</th>\n",
       "      <th>Cloudiness</th>\n",
       "      <th>Wind Speed</th>\n",
       "      <th>Country</th>\n",
       "      <th>Date</th>\n",
       "    </tr>\n",
       "  </thead>\n",
       "  <tbody>\n",
       "    <tr>\n",
       "      <th>0</th>\n",
       "      <td>Iqaluit</td>\n",
       "      <td>63.75</td>\n",
       "      <td>-68.51</td>\n",
       "      <td>32.00</td>\n",
       "      <td>94</td>\n",
       "      <td>75</td>\n",
       "      <td>6.24</td>\n",
       "      <td>CA</td>\n",
       "      <td>1603314011</td>\n",
       "    </tr>\n",
       "    <tr>\n",
       "      <th>1</th>\n",
       "      <td>Saskylakh</td>\n",
       "      <td>71.92</td>\n",
       "      <td>114.08</td>\n",
       "      <td>8.26</td>\n",
       "      <td>94</td>\n",
       "      <td>91</td>\n",
       "      <td>5.23</td>\n",
       "      <td>RU</td>\n",
       "      <td>1603314049</td>\n",
       "    </tr>\n",
       "    <tr>\n",
       "      <th>2</th>\n",
       "      <td>Butaritari</td>\n",
       "      <td>3.07</td>\n",
       "      <td>172.79</td>\n",
       "      <td>82.15</td>\n",
       "      <td>73</td>\n",
       "      <td>12</td>\n",
       "      <td>10.25</td>\n",
       "      <td>KI</td>\n",
       "      <td>1603313908</td>\n",
       "    </tr>\n",
       "    <tr>\n",
       "      <th>3</th>\n",
       "      <td>Cape Town</td>\n",
       "      <td>-33.93</td>\n",
       "      <td>18.42</td>\n",
       "      <td>57.99</td>\n",
       "      <td>82</td>\n",
       "      <td>0</td>\n",
       "      <td>13.87</td>\n",
       "      <td>ZA</td>\n",
       "      <td>1603313943</td>\n",
       "    </tr>\n",
       "    <tr>\n",
       "      <th>4</th>\n",
       "      <td>Ushuaia</td>\n",
       "      <td>-54.80</td>\n",
       "      <td>-68.30</td>\n",
       "      <td>53.60</td>\n",
       "      <td>50</td>\n",
       "      <td>40</td>\n",
       "      <td>6.93</td>\n",
       "      <td>AR</td>\n",
       "      <td>1603313882</td>\n",
       "    </tr>\n",
       "    <tr>\n",
       "      <th>...</th>\n",
       "      <td>...</td>\n",
       "      <td>...</td>\n",
       "      <td>...</td>\n",
       "      <td>...</td>\n",
       "      <td>...</td>\n",
       "      <td>...</td>\n",
       "      <td>...</td>\n",
       "      <td>...</td>\n",
       "      <td>...</td>\n",
       "    </tr>\n",
       "    <tr>\n",
       "      <th>568</th>\n",
       "      <td>Urengoy</td>\n",
       "      <td>65.97</td>\n",
       "      <td>78.37</td>\n",
       "      <td>19.26</td>\n",
       "      <td>98</td>\n",
       "      <td>76</td>\n",
       "      <td>7.85</td>\n",
       "      <td>RU</td>\n",
       "      <td>1603314178</td>\n",
       "    </tr>\n",
       "    <tr>\n",
       "      <th>569</th>\n",
       "      <td>Eyrarbakki</td>\n",
       "      <td>63.86</td>\n",
       "      <td>-21.15</td>\n",
       "      <td>39.20</td>\n",
       "      <td>82</td>\n",
       "      <td>75</td>\n",
       "      <td>14.99</td>\n",
       "      <td>IS</td>\n",
       "      <td>1603314242</td>\n",
       "    </tr>\n",
       "    <tr>\n",
       "      <th>570</th>\n",
       "      <td>Lavaca</td>\n",
       "      <td>28.61</td>\n",
       "      <td>-96.63</td>\n",
       "      <td>87.80</td>\n",
       "      <td>55</td>\n",
       "      <td>1</td>\n",
       "      <td>14.99</td>\n",
       "      <td>US</td>\n",
       "      <td>1603314003</td>\n",
       "    </tr>\n",
       "    <tr>\n",
       "      <th>571</th>\n",
       "      <td>Pacific Grove</td>\n",
       "      <td>36.62</td>\n",
       "      <td>-121.92</td>\n",
       "      <td>81.00</td>\n",
       "      <td>63</td>\n",
       "      <td>1</td>\n",
       "      <td>4.70</td>\n",
       "      <td>US</td>\n",
       "      <td>1603313986</td>\n",
       "    </tr>\n",
       "    <tr>\n",
       "      <th>572</th>\n",
       "      <td>Nārāyanganj</td>\n",
       "      <td>23.62</td>\n",
       "      <td>90.50</td>\n",
       "      <td>80.60</td>\n",
       "      <td>83</td>\n",
       "      <td>75</td>\n",
       "      <td>4.70</td>\n",
       "      <td>BD</td>\n",
       "      <td>1603314242</td>\n",
       "    </tr>\n",
       "  </tbody>\n",
       "</table>\n",
       "<p>573 rows × 9 columns</p>\n",
       "</div>"
      ],
      "text/plain": [
       "              City    Lat     Lng  Max Temp  Humidity  Cloudiness  Wind Speed  \\\n",
       "0          Iqaluit  63.75  -68.51     32.00        94          75        6.24   \n",
       "1        Saskylakh  71.92  114.08      8.26        94          91        5.23   \n",
       "2       Butaritari   3.07  172.79     82.15        73          12       10.25   \n",
       "3        Cape Town -33.93   18.42     57.99        82           0       13.87   \n",
       "4          Ushuaia -54.80  -68.30     53.60        50          40        6.93   \n",
       "..             ...    ...     ...       ...       ...         ...         ...   \n",
       "568        Urengoy  65.97   78.37     19.26        98          76        7.85   \n",
       "569     Eyrarbakki  63.86  -21.15     39.20        82          75       14.99   \n",
       "570         Lavaca  28.61  -96.63     87.80        55           1       14.99   \n",
       "571  Pacific Grove  36.62 -121.92     81.00        63           1        4.70   \n",
       "572    Nārāyanganj  23.62   90.50     80.60        83          75        4.70   \n",
       "\n",
       "    Country        Date  \n",
       "0        CA  1603314011  \n",
       "1        RU  1603314049  \n",
       "2        KI  1603313908  \n",
       "3        ZA  1603313943  \n",
       "4        AR  1603313882  \n",
       "..      ...         ...  \n",
       "568      RU  1603314178  \n",
       "569      IS  1603314242  \n",
       "570      US  1603314003  \n",
       "571      US  1603313986  \n",
       "572      BD  1603314242  \n",
       "\n",
       "[573 rows x 9 columns]"
      ]
     },
     "execution_count": 7,
     "metadata": {},
     "output_type": "execute_result"
    }
   ],
   "source": [
    "# Display the Data Frame\n",
    "weather_dict"
   ]
  },
  {
   "cell_type": "code",
   "execution_count": 8,
   "metadata": {},
   "outputs": [],
   "source": [
    "# Save city data into a csv file\n",
    "weather_dict.to_csv(\"../output_data/cities.csv\", index = False)"
   ]
  },
  {
   "cell_type": "markdown",
   "metadata": {},
   "source": [
    "## Inspect the data and remove the cities where the humidity > 100%.\n",
    "----\n",
    "Skip this step if there are no cities that have humidity > 100%. "
   ]
  },
  {
   "cell_type": "code",
   "execution_count": 9,
   "metadata": {},
   "outputs": [
    {
     "data": {
      "text/html": [
       "<div>\n",
       "<style scoped>\n",
       "    .dataframe tbody tr th:only-of-type {\n",
       "        vertical-align: middle;\n",
       "    }\n",
       "\n",
       "    .dataframe tbody tr th {\n",
       "        vertical-align: top;\n",
       "    }\n",
       "\n",
       "    .dataframe thead th {\n",
       "        text-align: right;\n",
       "    }\n",
       "</style>\n",
       "<table border=\"1\" class=\"dataframe\">\n",
       "  <thead>\n",
       "    <tr style=\"text-align: right;\">\n",
       "      <th></th>\n",
       "      <th>Lat</th>\n",
       "      <th>Lng</th>\n",
       "      <th>Max Temp</th>\n",
       "      <th>Humidity</th>\n",
       "      <th>Cloudiness</th>\n",
       "      <th>Wind Speed</th>\n",
       "      <th>Date</th>\n",
       "    </tr>\n",
       "  </thead>\n",
       "  <tbody>\n",
       "    <tr>\n",
       "      <th>count</th>\n",
       "      <td>573.000000</td>\n",
       "      <td>573.000000</td>\n",
       "      <td>573.000000</td>\n",
       "      <td>573.000000</td>\n",
       "      <td>573.000000</td>\n",
       "      <td>573.000000</td>\n",
       "      <td>5.730000e+02</td>\n",
       "    </tr>\n",
       "    <tr>\n",
       "      <th>mean</th>\n",
       "      <td>20.257382</td>\n",
       "      <td>17.718674</td>\n",
       "      <td>60.597417</td>\n",
       "      <td>72.174520</td>\n",
       "      <td>53.314136</td>\n",
       "      <td>7.756545</td>\n",
       "      <td>1.603314e+09</td>\n",
       "    </tr>\n",
       "    <tr>\n",
       "      <th>std</th>\n",
       "      <td>33.119855</td>\n",
       "      <td>91.247454</td>\n",
       "      <td>21.517102</td>\n",
       "      <td>21.595881</td>\n",
       "      <td>38.948223</td>\n",
       "      <td>4.961084</td>\n",
       "      <td>1.434752e+02</td>\n",
       "    </tr>\n",
       "    <tr>\n",
       "      <th>min</th>\n",
       "      <td>-54.800000</td>\n",
       "      <td>-175.200000</td>\n",
       "      <td>1.400000</td>\n",
       "      <td>1.000000</td>\n",
       "      <td>0.000000</td>\n",
       "      <td>0.290000</td>\n",
       "      <td>1.603314e+09</td>\n",
       "    </tr>\n",
       "    <tr>\n",
       "      <th>25%</th>\n",
       "      <td>-6.090000</td>\n",
       "      <td>-63.760000</td>\n",
       "      <td>46.420000</td>\n",
       "      <td>62.000000</td>\n",
       "      <td>9.000000</td>\n",
       "      <td>4.000000</td>\n",
       "      <td>1.603314e+09</td>\n",
       "    </tr>\n",
       "    <tr>\n",
       "      <th>50%</th>\n",
       "      <td>24.690000</td>\n",
       "      <td>23.370000</td>\n",
       "      <td>64.780000</td>\n",
       "      <td>77.000000</td>\n",
       "      <td>67.000000</td>\n",
       "      <td>6.930000</td>\n",
       "      <td>1.603314e+09</td>\n",
       "    </tr>\n",
       "    <tr>\n",
       "      <th>75%</th>\n",
       "      <td>48.460000</td>\n",
       "      <td>96.130000</td>\n",
       "      <td>77.580000</td>\n",
       "      <td>88.000000</td>\n",
       "      <td>90.000000</td>\n",
       "      <td>10.290000</td>\n",
       "      <td>1.603314e+09</td>\n",
       "    </tr>\n",
       "    <tr>\n",
       "      <th>max</th>\n",
       "      <td>78.220000</td>\n",
       "      <td>179.320000</td>\n",
       "      <td>97.000000</td>\n",
       "      <td>100.000000</td>\n",
       "      <td>100.000000</td>\n",
       "      <td>28.570000</td>\n",
       "      <td>1.603314e+09</td>\n",
       "    </tr>\n",
       "  </tbody>\n",
       "</table>\n",
       "</div>"
      ],
      "text/plain": [
       "              Lat         Lng    Max Temp    Humidity  Cloudiness  Wind Speed  \\\n",
       "count  573.000000  573.000000  573.000000  573.000000  573.000000  573.000000   \n",
       "mean    20.257382   17.718674   60.597417   72.174520   53.314136    7.756545   \n",
       "std     33.119855   91.247454   21.517102   21.595881   38.948223    4.961084   \n",
       "min    -54.800000 -175.200000    1.400000    1.000000    0.000000    0.290000   \n",
       "25%     -6.090000  -63.760000   46.420000   62.000000    9.000000    4.000000   \n",
       "50%     24.690000   23.370000   64.780000   77.000000   67.000000    6.930000   \n",
       "75%     48.460000   96.130000   77.580000   88.000000   90.000000   10.290000   \n",
       "max     78.220000  179.320000   97.000000  100.000000  100.000000   28.570000   \n",
       "\n",
       "               Date  \n",
       "count  5.730000e+02  \n",
       "mean   1.603314e+09  \n",
       "std    1.434752e+02  \n",
       "min    1.603314e+09  \n",
       "25%    1.603314e+09  \n",
       "50%    1.603314e+09  \n",
       "75%    1.603314e+09  \n",
       "max    1.603314e+09  "
      ]
     },
     "execution_count": 9,
     "metadata": {},
     "output_type": "execute_result"
    }
   ],
   "source": [
    "weather_dict.describe()"
   ]
  },
  {
   "cell_type": "code",
   "execution_count": 10,
   "metadata": {},
   "outputs": [],
   "source": [
    "#  Get the indices of cities that have humidity over 100%.\n"
   ]
  },
  {
   "cell_type": "code",
   "execution_count": 11,
   "metadata": {},
   "outputs": [],
   "source": [
    "# Make a new DataFrame equal to the city data to drop all humidity outliers by index.\n",
    "# Passing \"inplace=False\" will make a copy of the city_data DataFrame, which we call \"clean_city_data\".\n"
   ]
  },
  {
   "cell_type": "markdown",
   "metadata": {},
   "source": [
    "## Plotting the Data\n",
    "* Use proper labeling of the plots using plot titles (including date of analysis) and axes labels.\n",
    "* Save the plotted figures as .pngs."
   ]
  },
  {
   "cell_type": "markdown",
   "metadata": {},
   "source": [
    "## Latitude vs. Temperature Plot"
   ]
  },
  {
   "cell_type": "code",
   "execution_count": 12,
   "metadata": {
    "scrolled": true
   },
   "outputs": [
    {
     "data": {
      "image/png": "[encoded data removed]",
      "text/plain": [
       "<Figure size 432x288 with 1 Axes>"
      ]
     },
     "metadata": {
      "needs_background": "light"
     },
     "output_type": "display_data"
    }
   ],
   "source": [
    "# Create Latitude vs. Temperature Plot scatter plot\n",
    "plt.scatter(weather_dict[\"Lat\"], weather_dict[\"Max Temp\"], facecolor = \"green\", edgecolor = \"black\")\n",
    "\n",
    "# Set title\n",
    "plt.title(\"City Latitude vs. Max Temperature (01/17/20)\")\n",
    "\n",
    "# Set x axis label\n",
    "plt.xlabel(\"Laitude\")\n",
    "\n",
    "# Set y axis label\n",
    "plt.ylabel(\"Max Temperature (F)\")\n",
    "\n",
    "# Set grid line\n",
    "plt.grid(linestyle='-', linewidth=1, alpha = 0.5)\n",
    "\n",
    "# Save the plotted figure as .pngs\n",
    "plt.savefig(\"../Images/City Latitude vs Max Temperature.png\")"
   ]
  },
  {
   "cell_type": "markdown",
   "metadata": {},
   "source": [
    "Cites closer to 0 on the latitude axis temperature tends to be a lot higher and the higher the latitude the temperature starts to drop"
   ]
  },
  {
   "cell_type": "markdown",
   "metadata": {},
   "source": [
    "## Latitude vs. Humidity Plot"
   ]
  },
  {
   "cell_type": "code",
   "execution_count": 26,
   "metadata": {},
   "outputs": [
    {
     "data": {
      "image/png": "[encoded data removed]",
      "text/plain": [
       "<Figure size 432x288 with 1 Axes>"
      ]
     },
     "metadata": {
      "needs_background": "light"
     },
     "output_type": "display_data"
    }
   ],
   "source": [
    "# Create Latitude vs. Humidity Plot scatter plot\n",
    "plt.scatter(weather_dict[\"Lat\"], weather_dict[\"Humidity\"], facecolor = \"purple\", edgecolor = \"black\")\n",
    "\n",
    "# Set title\n",
    "plt.title(\"City Latitude vs. Humidity (01/17/20)\")\n",
    "\n",
    "# Set x axis label\n",
    "plt.xlabel(\"Latitude\")\n",
    "\n",
    "# Set y axis label\n",
    "plt.ylabel(\"Humidity (%)\")\n",
    "\n",
    "# Set grid line\n",
    "plt.grid(linestyle='-', linewidth=1, alpha = 0.5)\n",
    "\n",
    "# Save the plotted figure as .pngs\n",
    "plt.savefig(\"../Images/City Latitude vs Humidity.png\")"
   ]
  },
  {
   "cell_type": "markdown",
   "metadata": {},
   "source": [
    "Cites throughout any latitude tend to have around the same percent of humidity "
   ]
  },
  {
   "cell_type": "markdown",
   "metadata": {},
   "source": [
    "## Latitude vs. Cloudiness Plot"
   ]
  },
  {
   "cell_type": "code",
   "execution_count": 27,
   "metadata": {
    "scrolled": true
   },
   "outputs": [
    {
     "data": {
      "image/png": "[encoded data removed]",
      "text/plain": [
       "<Figure size 432x288 with 1 Axes>"
      ]
     },
     "metadata": {
      "needs_background": "light"
     },
     "output_type": "display_data"
    }
   ],
   "source": [
    "# Create Latitude vs. Cloudiness Plot scatter plot\n",
    "plt.scatter(weather_dict[\"Lat\"], weather_dict[\"Cloudiness\"], facecolor = \"yellow\", edgecolor = \"black\")\n",
    "\n",
    "# Set title\n",
    "plt.title(\"City Latitude vs. Cloudiness (01/17/20)\")\n",
    "\n",
    "# Set x axis label\n",
    "plt.xlabel(\"Latitude\")\n",
    "\n",
    "# Set y axis label\n",
    "plt.ylabel(\"Cloudiness (%)\")\n",
    "\n",
    "# Set y axis limit\n",
    "plt.ylim(-5,105)\n",
    "\n",
    "# Set grid line\n",
    "plt.grid(linestyle='-', linewidth=1, alpha = 0.5)\n",
    "\n",
    "# Save the plotted figure as .pngs\n",
    "plt.savefig(\"../Images/City Latitude vs Cloudiness.png\")"
   ]
  },
  {
   "cell_type": "markdown",
   "metadata": {},
   "source": [
    "The random cities that were generated is showing that cloudiness can range in all percentages depending on the latitude "
   ]
  },
  {
   "cell_type": "markdown",
   "metadata": {},
   "source": [
    "## Latitude vs. Wind Speed Plot"
   ]
  },
  {
   "cell_type": "code",
   "execution_count": 28,
   "metadata": {
    "scrolled": true
   },
   "outputs": [
    {
     "data": {
      "image/png": "[encoded data removed]",
      "text/plain": [
       "<Figure size 432x288 with 1 Axes>"
      ]
     },
     "metadata": {
      "needs_background": "light"
     },
     "output_type": "display_data"
    }
   ],
   "source": [
    "# Create Latitude vs. Wind Speed scatter plot\n",
    "plt.scatter(weather_dict[\"Lat\"], weather_dict[\"Wind Speed\"], facecolor = \"orange\", edgecolor = \"black\")\n",
    "plt.title(\"City Latitude vs. Wind Speed (mph) (01/17/20)\")\n",
    "\n",
    "# Set x axis label\n",
    "plt.xlabel(\"Latitude\")\n",
    "\n",
    "# Set y axis label\n",
    "plt.ylabel(\"Wind Speed (%)\")\n",
    "\n",
    "# Set y axis limit\n",
    "plt.ylim(-2,50)\n",
    "\n",
    "# Set grid line\n",
    "plt.grid(linestyle='-', linewidth=1, alpha = 0.5)\n",
    "\n",
    "# Save the plotted figure as .pngs\n",
    "plt.savefig(\"../Images/City Latitude vs Wind Speed (mph).png\")"
   ]
  },
  {
   "cell_type": "markdown",
   "metadata": {},
   "source": [
    "Wind speed perentage max is no more than 30 percent based of the latitude of the cities that were pulled"
   ]
  },
  {
   "cell_type": "markdown",
   "metadata": {},
   "source": [
    "## Linear Regression"
   ]
  },
  {
   "cell_type": "code",
   "execution_count": 16,
   "metadata": {},
   "outputs": [],
   "source": [
    "# Create Northern and Southern Hemisphere DataFrames\n",
    "northern_hemisphere = weather_dict.loc[weather_dict[\"Lat\"] >= 0]\n",
    "southern_hemisphere = weather_dict.loc[weather_dict[\"Lat\"] < 0]"
   ]
  },
  {
   "cell_type": "code",
   "execution_count": 17,
   "metadata": {},
   "outputs": [],
   "source": [
    "# Define function for creating linear agression and scatter plot\n",
    "def linear_agression(x,y):\n",
    "    print(f\"The r-squared is : {round(st.pearsonr(x, y)[0],2)}\")\n",
    "    (slope, intercept, rvalue, pvalue, stderr) = linregress(x, y)\n",
    "    regress_values = x * slope + intercept\n",
    "    line_eq = \"y = \" + str(round(slope,2)) + \"x + \" + str(round(intercept,2))\n",
    "    plt.scatter(x, y)\n",
    "    plt.plot(x,regress_values,\"r-\")\n",
    "    return line_eq\n",
    "\n",
    "# Define a fuction for annotating\n",
    "def annotate(line_eq, a, b):\n",
    "    plt.annotate(line_eq,(a,b),fontsize=15,color=\"red\")"
   ]
  },
  {
   "cell_type": "markdown",
   "metadata": {},
   "source": [
    "####  Northern Hemisphere - Max Temp vs. Latitude Linear Regression"
   ]
  },
  {
   "cell_type": "code",
   "execution_count": 18,
   "metadata": {
    "scrolled": true
   },
   "outputs": [
    {
     "name": "stdout",
     "output_type": "stream",
     "text": [
      "The r-squared is : -0.87\n"
     ]
    },
    {
     "data": {
      "image/png": "[encoded data removed]",
      "text/plain": [
       "<Figure size 432x288 with 1 Axes>"
      ]
     },
     "metadata": {
      "needs_background": "light"
     },
     "output_type": "display_data"
    }
   ],
   "source": [
    "# Call an function #1\n",
    "equation = linear_agression(northern_hemisphere[\"Lat\"], northern_hemisphere[\"Max Temp\"])\n",
    "\n",
    "# Call an function #2\n",
    "annotate(equation, 0, 0)\n",
    "\n",
    "# Set a title\n",
    "plt.title(\"Northern Hemisphere - Max Temp vs. Latitude Linear Regression\")\n",
    "\n",
    "# Set xlabel\n",
    "plt.xlabel(\"Latitude\")\n",
    "\n",
    "# Set ylabel\n",
    "plt.ylabel(\"Max Temp (F)\")\n",
    "\n",
    "# Save the figure\n",
    "plt.savefig(\"../Images/Northern Hemisphere - Max Temp vs. Latitude Linear Regression.png\")"
   ]
  },
  {
   "cell_type": "markdown",
   "metadata": {},
   "source": [
    "Moving across the latitude of the cities that were pulled shows that the higher the latitude the lower the max temperature"
   ]
  },
  {
   "cell_type": "markdown",
   "metadata": {},
   "source": [
    "####  Southern Hemisphere - Max Temp vs. Latitude Linear Regression"
   ]
  },
  {
   "cell_type": "code",
   "execution_count": 19,
   "metadata": {
    "scrolled": true
   },
   "outputs": [
    {
     "name": "stdout",
     "output_type": "stream",
     "text": [
      "The r-squared is : 0.74\n"
     ]
    },
    {
     "data": {
      "image/png": "[encoded data removed]",
      "text/plain": [
       "<Figure size 432x288 with 1 Axes>"
      ]
     },
     "metadata": {
      "needs_background": "light"
     },
     "output_type": "display_data"
    }
   ],
   "source": [
    "# Call an function #1\n",
    "equation = linear_agression(southern_hemisphere[\"Lat\"],southern_hemisphere[\"Max Temp\"])\n",
    "\n",
    "# Call an function #2\n",
    "annotate(equation, -30, 50)\n",
    "\n",
    "# Set a title\n",
    "plt.title(\"Southern Hemisphere - Max Temp vs. Latitude Linear Regression\")\n",
    "\n",
    "# Set xlabel\n",
    "plt.xlabel(\"Latitude\")\n",
    "\n",
    "# Set ylabel\n",
    "plt.ylabel(\"Max Temp (F)\")\n",
    "\n",
    "# Save the figure\n",
    "plt.savefig(\"../Images/Southern Hemisphere - Max Temp vs. Latitude Linear Regression.png\")"
   ]
  },
  {
   "cell_type": "markdown",
   "metadata": {},
   "source": [
    "the lower the latitude the higher the max temperature tends to be"
   ]
  },
  {
   "cell_type": "markdown",
   "metadata": {},
   "source": [
    "####  Northern Hemisphere - Humidity (%) vs. Latitude Linear Regression"
   ]
  },
  {
   "cell_type": "code",
   "execution_count": 20,
   "metadata": {
    "scrolled": true
   },
   "outputs": [
    {
     "name": "stdout",
     "output_type": "stream",
     "text": [
      "The r-squared is : 0.36\n"
     ]
    },
    {
     "data": {
      "image/png": "[encoded data removed]",
      "text/plain": [
       "<Figure size 432x288 with 1 Axes>"
      ]
     },
     "metadata": {
      "needs_background": "light"
     },
     "output_type": "display_data"
    }
   ],
   "source": [
    "# Call an function #1\n",
    "equation = linear_agression(northern_hemisphere[\"Lat\"], northern_hemisphere[\"Humidity\"])\n",
    "\n",
    "# Call an function #2\n",
    "annotate(equation, 40, 15)\n",
    "\n",
    "# Set a title\n",
    "plt.title(\"Northern Hemisphere - Humidity (%) vs. Latitude Linear Regression\")\n",
    "\n",
    "# Set xlabel\n",
    "plt.xlabel(\"Latitude\")\n",
    "\n",
    "# Set ylabel\n",
    "plt.ylabel(\"Humidity (%)\")\n",
    "\n",
    "# Save the figure\n",
    "plt.savefig(\"../Images/Northern Hemisphere - Humidity (%) vs. Latitude Linear Regression.png\")"
   ]
  },
  {
   "cell_type": "markdown",
   "metadata": {},
   "source": [
    "The humidity levels across the latitude tend to be very consistent with each point above 0"
   ]
  },
  {
   "cell_type": "markdown",
   "metadata": {},
   "source": [
    "####  Southern Hemisphere - Humidity (%) vs. Latitude Linear Regression"
   ]
  },
  {
   "cell_type": "code",
   "execution_count": 21,
   "metadata": {
    "scrolled": true
   },
   "outputs": [
    {
     "name": "stdout",
     "output_type": "stream",
     "text": [
      "The r-squared is : 0.18\n"
     ]
    },
    {
     "data": {
      "image/png": "[encoded data removed]",
      "text/plain": [
       "<Figure size 432x288 with 1 Axes>"
      ]
     },
     "metadata": {
      "needs_background": "light"
     },
     "output_type": "display_data"
    }
   ],
   "source": [
    "# Call an function #1\n",
    "equation = linear_agression(southern_hemisphere[\"Lat\"], southern_hemisphere[\"Humidity\"])\n",
    "\n",
    "# Call an function #2\n",
    "annotate(equation, -40, 50)\n",
    "\n",
    "# Set title\n",
    "plt.title(\"Southern Hemisphere - Humidity (%) vs. Latitude Linear Regression\")\n",
    "\n",
    "# Set xlabel\n",
    "plt.xlabel(\"Latitude\")\n",
    "\n",
    "# Set ylabel\n",
    "plt.ylabel(\"Humidity (%)\")\n",
    "\n",
    "# Save the figure\n",
    "plt.savefig(\"../Images/Southern Hemisphere - Humidity (%) vs. Latitude Linear Regression.png\")"
   ]
  },
  {
   "cell_type": "markdown",
   "metadata": {},
   "source": [
    "There is a positive correlation between latitude and humidity within the southern hemisphere"
   ]
  },
  {
   "cell_type": "markdown",
   "metadata": {},
   "source": [
    "####  Northern Hemisphere - Cloudiness (%) vs. Latitude Linear Regression"
   ]
  },
  {
   "cell_type": "code",
   "execution_count": 22,
   "metadata": {
    "scrolled": true
   },
   "outputs": [
    {
     "name": "stdout",
     "output_type": "stream",
     "text": [
      "The r-squared is : 0.33\n"
     ]
    },
    {
     "data": {
      "image/png": "[encoded data removed]",
      "text/plain": [
       "<Figure size 432x288 with 1 Axes>"
      ]
     },
     "metadata": {
      "needs_background": "light"
     },
     "output_type": "display_data"
    }
   ],
   "source": [
    "# Call an function #1\n",
    "equation = linear_agression(northern_hemisphere[\"Lat\"], northern_hemisphere[\"Cloudiness\"])\n",
    "\n",
    "# Call an function #2\n",
    "annotate(equation, 30, 40)\n",
    "\n",
    "# Set a title\n",
    "plt.title(\"Northern Hemisphere - Cloudiness (%) vs. Latitude Linear Regression\")\n",
    "\n",
    "# Set xlabel\n",
    "plt.xlabel(\"Latitude\")\n",
    "\n",
    "# Set ylabel\n",
    "plt.ylabel(\"Cloudiness (%)\")\n",
    "\n",
    "# Save the figure\n",
    "plt.savefig(\"../Images/Northern Hemisphere - Cloudiness (%) vs. Latitude Linear Regression.png\")"
   ]
  },
  {
   "cell_type": "markdown",
   "metadata": {},
   "source": [
    "The correlation across the northern hemisphere and latitude above 0 has a positive trend"
   ]
  },
  {
   "cell_type": "markdown",
   "metadata": {},
   "source": [
    "####  Southern Hemisphere - Cloudiness (%) vs. Latitude Linear Regression"
   ]
  },
  {
   "cell_type": "code",
   "execution_count": 23,
   "metadata": {},
   "outputs": [
    {
     "name": "stdout",
     "output_type": "stream",
     "text": [
      "The r-squared is : 0.07\n"
     ]
    },
    {
     "data": {
      "image/png": "[encoded data removed]",
      "text/plain": [
       "<Figure size 432x288 with 1 Axes>"
      ]
     },
     "metadata": {
      "needs_background": "light"
     },
     "output_type": "display_data"
    }
   ],
   "source": [
    "# Call an function #1\n",
    "equation = linear_agression(southern_hemisphere[\"Lat\"], southern_hemisphere[\"Cloudiness\"])\n",
    "\n",
    "# Call an function #2\n",
    "annotate(equation, -30, 40)\n",
    "\n",
    "# Set a title\n",
    "plt.title(\"Southern Hemisphere - Cloudiness (%) vs. Latitude Linear Regression\")\n",
    "\n",
    "# Set xlabel\n",
    "plt.xlabel(\"Latitude\")\n",
    "\n",
    "# Set ylabel\n",
    "plt.ylabel(\"Cloudiness (%)\")\n",
    "\n",
    "# Save the figure\n",
    "plt.savefig(\"../Images/Southern Hemisphere - Cloudiness (%) vs. Latitude Linear Regression.png\")"
   ]
  },
  {
   "cell_type": "markdown",
   "metadata": {},
   "source": [
    "The correlation across the southern hemisphere and latitude below 0 has an upward trend"
   ]
  },
  {
   "cell_type": "markdown",
   "metadata": {},
   "source": [
    "####  Northern Hemisphere - Wind Speed (mph) vs. Latitude Linear Regression"
   ]
  },
  {
   "cell_type": "code",
   "execution_count": 24,
   "metadata": {},
   "outputs": [
    {
     "name": "stdout",
     "output_type": "stream",
     "text": [
      "The r-squared is : 0.04\n"
     ]
    },
    {
     "data": {
      "image/png": "[encoded data removed]",
      "text/plain": [
       "<Figure size 432x288 with 1 Axes>"
      ]
     },
     "metadata": {
      "needs_background": "light"
     },
     "output_type": "display_data"
    }
   ],
   "source": [
    "\n",
    "# Call an function #1\n",
    "equation = linear_agression(northern_hemisphere[\"Lat\"], northern_hemisphere[\"Wind Speed\"])\n",
    "\n",
    "# Call an function #2\n",
    "annotate(equation, 40, 20)\n",
    "\n",
    "# Set  title\n",
    "plt.title(\"Northern Hemisphere - Wind Speed (mph) vs. Latitude Linear Regression\")\n",
    "\n",
    "# Set xlabel\n",
    "plt.xlabel(\"Latitude\")\n",
    "\n",
    "# Set ylabel\n",
    "plt.ylabel(\"Wind Speed (mph)\")\n",
    "\n",
    "# Save the figure\n",
    "plt.savefig(\"../Images/Northern Hemisphere - Wind Speed vs. Latitude Linear Regression.png\")"
   ]
  },
  {
   "cell_type": "markdown",
   "metadata": {},
   "source": [
    "The correlation across the northen hemisphere and latitude above 0 is steady and even"
   ]
  },
  {
   "cell_type": "markdown",
   "metadata": {},
   "source": [
    "####  Southern Hemisphere - Wind Speed (mph) vs. Latitude Linear Regression"
   ]
  },
  {
   "cell_type": "code",
   "execution_count": 25,
   "metadata": {
    "scrolled": true
   },
   "outputs": [
    {
     "name": "stdout",
     "output_type": "stream",
     "text": [
      "The r-squared is : -0.02\n"
     ]
    },
    {
     "data": {
      "image/png": "[encoded data removed]",
      "text/plain": [
       "<Figure size 432x288 with 1 Axes>"
      ]
     },
     "metadata": {
      "needs_background": "light"
     },
     "output_type": "display_data"
    }
   ],
   "source": [
    "# Call an function #1\n",
    "equation = linear_agression(southern_hemisphere[\"Lat\"], southern_hemisphere[\"Wind Speed\"])\n",
    "\n",
    "# Call an function #2\n",
    "annotate(equation, -30, 15)\n",
    "\n",
    "# Set  title\n",
    "plt.title(\"Southern Hemisphere - Wind Speed (mph) vs. Latitude Linear Regression\")\n",
    "\n",
    "# Set xlabel\n",
    "plt.xlabel(\"Latitude\")\n",
    "\n",
    "# Set ylabel\n",
    "plt.ylabel(\"Wind Speed (mph)\")\n",
    "\n",
    "# Save the figure\n",
    "plt.savefig(\"../Images/Southern Hemisphere - Wind Speed vs. Latitude Linear Regression.png\")"
   ]
  },
  {
   "cell_type": "markdown",
   "metadata": {},
   "source": [
    "The correlation across the southern hemisphere and latitude below 0 is steady and even"
   ]
  }
 ],
 "metadata": {
  "anaconda-cloud": {},
  "kernel_info": {
   "name": "python3"
  },
  "kernelspec": {
   "display_name": "Python [conda env:pythondata] *",
   "language": "python",
   "name": "conda-env-pythondata-py"
  },
  "language_info": {
   "codemirror_mode": {
    "name": "ipython",
    "version": 3
   },
   "file_extension": ".py",
   "mimetype": "text/x-python",
   "name": "python",
   "nbconvert_exporter": "python",
   "pygments_lexer": "ipython3",
   "version": "3.6.12"
  },
  "latex_envs": {
   "LaTeX_envs_menu_present": true,
   "autoclose": false,
   "autocomplete": true,
   "bibliofile": "biblio.bib",
   "cite_by": "apalike",
   "current_citInitial": 1,
   "eqLabelWithNumbers": true,
   "eqNumInitial": 1,
   "hotkeys": {
    "equation": "Ctrl-E",
    "itemize": "Ctrl-I"
   },
   "labels_anchors": false,
   "latex_user_defs": false,
   "report_style_numbering": false,
   "user_envs_cfg": false
  },
  "nteract": {
   "version": "0.12.3"
  }
 },
 "nbformat": 4,
 "nbformat_minor": 2
}
